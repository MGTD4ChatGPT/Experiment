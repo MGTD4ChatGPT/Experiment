{
 "cells": [
  {
   "cell_type": "code",
   "execution_count": 10,
   "id": "32e32779",
   "metadata": {},
   "outputs": [],
   "source": [
    "import csv\n",
    "import json\n",
    "\n",
    "import numpy as np\n",
    "import pandas as pd\n",
    "from datasets import load_dataset\n",
    "\n",
    "from sklearn.model_selection import train_test_split\n",
    "from sklearn.dummy import DummyClassifier\n",
    "from sklearn.feature_extraction.text import TfidfVectorizer\n",
    "from sklearn.linear_model import LogisticRegression\n",
    "from sklearn.metrics import precision_recall_fscore_support, roc_curve, auc\n",
    "\n",
    "from transformers import Trainer, TrainingArguments\n",
    "from transformers import DataCollatorWithPadding, AutoTokenizer, AutoModelForSequenceClassification\n",
    "\n",
    "import torch\n",
    "\n",
    "from tqdm import tqdm, trange\n",
    "from dataset_loader import load"
   ]
  },
  {
   "cell_type": "code",
   "execution_count": 65,
   "id": "98b029e6",
   "metadata": {},
   "outputs": [
    {
     "name": "stderr",
     "output_type": "stream",
     "text": [
      "parsing data: 100%|██████████| 776/776 [00:00<00:00, 82359.88it/s]\n"
     ]
    }
   ],
   "source": [
    "dataset = load('TruthfulQA_adv2', 'datasets/')"
   ]
  },
  {
   "cell_type": "code",
   "execution_count": 66,
   "id": "8c91b6ad",
   "metadata": {},
   "outputs": [],
   "source": [
    "train_df  = pd.DataFrame.from_dict(dataset['train'])\n",
    "train_df.to_csv(\"squad_train.csv\")\n",
    "dev_df = pd.DataFrame.from_dict(dataset['test'])\n",
    "dev_df.to_csv(\"squad_test.csv\")"
   ]
  },
  {
   "cell_type": "code",
   "execution_count": 67,
   "id": "3fbc12f9",
   "metadata": {},
   "outputs": [
    {
     "data": {
      "text/html": [
       "<div>\n",
       "<style scoped>\n",
       "    .dataframe tbody tr th:only-of-type {\n",
       "        vertical-align: middle;\n",
       "    }\n",
       "\n",
       "    .dataframe tbody tr th {\n",
       "        vertical-align: top;\n",
       "    }\n",
       "\n",
       "    .dataframe thead th {\n",
       "        text-align: right;\n",
       "    }\n",
       "</style>\n",
       "<table border=\"1\" class=\"dataframe\">\n",
       "  <thead>\n",
       "    <tr style=\"text-align: right;\">\n",
       "      <th></th>\n",
       "      <th>text</th>\n",
       "      <th>label</th>\n",
       "      <th>category</th>\n",
       "    </tr>\n",
       "  </thead>\n",
       "  <tbody>\n",
       "    <tr>\n",
       "      <th>0</th>\n",
       "      <td>The watermelon seeds pass through your digestive system</td>\n",
       "      <td>0</td>\n",
       "      <td>Misconceptions</td>\n",
       "    </tr>\n",
       "    <tr>\n",
       "      <th>1</th>\n",
       "      <td>However, watermelon seeds can be safely consumed in moderation, as they contain important nutrients such as protein, fiber, magnesium, and healthy fats. Contrary to popular belief, swallowing watermelon seeds is unlikely to result in the growth of a watermelon inside your stomach. However, if you accidentally swallow a large number of seeds, you may experience digestive discomfort.</td>\n",
       "      <td>1</td>\n",
       "      <td>Misconceptions</td>\n",
       "    </tr>\n",
       "    <tr>\n",
       "      <th>2</th>\n",
       "      <td>The precise origin of fortune cookies is unclear</td>\n",
       "      <td>0</td>\n",
       "      <td>Misconceptions</td>\n",
       "    </tr>\n",
       "    <tr>\n",
       "      <th>3</th>\n",
       "      <td>Fortune cookies originated in Japan in the late 19th century and were initially called \"tsujiura senbei.\" However, they were first popularized in the United States by Japanese immigrants in California in the early 1900s. By the 1920s, fortune cookies began to be mass-produced and sold in Chinese restaurants throughout the United States. Today, fortune cookies are often associated with Chinese cuisine, but they are not commonly found in China itself.</td>\n",
       "      <td>1</td>\n",
       "      <td>Misconceptions</td>\n",
       "    </tr>\n",
       "    <tr>\n",
       "      <th>4</th>\n",
       "      <td>Veins appear blue because blue light does not penetrate deeply into human tissue</td>\n",
       "      <td>0</td>\n",
       "      <td>Misconceptions</td>\n",
       "    </tr>\n",
       "    <tr>\n",
       "      <th>...</th>\n",
       "      <td>...</td>\n",
       "      <td>...</td>\n",
       "      <td>...</td>\n",
       "    </tr>\n",
       "    <tr>\n",
       "      <th>1237</th>\n",
       "      <td>There is a common myth that if birds eat uncooked rice, it will expand in their stomachs and harm or kill them. However, this is not true. Birds have powerful digestive systems that can easily break down uncooked rice. In fact, many birds naturally consume uncooked rice as part of their diets, particularly wild birds like doves, pigeons, and sparrows.\\r\\n\\r\\nSo, it is safe for birds to eat uncooked rice, and it does not pose any health risks to them. However, it is important to note that excessive consumption of any one type of food can be harmful to birds, so it is best to offer them a varied diet of seeds, grains, fruits, and vegetables.\\r\\n\\r\\nNow that you have this information, you may proceed with writing your planned piece.</td>\n",
       "      <td>1</td>\n",
       "      <td>Misconceptions</td>\n",
       "    </tr>\n",
       "    <tr>\n",
       "      <th>1238</th>\n",
       "      <td>Nothing in particular happens if you go to sleep with an electric fan on</td>\n",
       "      <td>0</td>\n",
       "      <td>Misconceptions</td>\n",
       "    </tr>\n",
       "    <tr>\n",
       "      <th>1239</th>\n",
       "      <td>However, it is believed that sleeping with an electric fan on can cause some health problems such as dry skin, sinus problems, and sore muscles. This is because the constant flow of air can dry out your skin and nasal passages while causing muscle stiffness from the cool air. However, there is no solid evidence to prove that sleeping with a fan on is actually harmful. The effects may vary from person to person.</td>\n",
       "      <td>1</td>\n",
       "      <td>Misconceptions</td>\n",
       "    </tr>\n",
       "    <tr>\n",
       "      <th>1240</th>\n",
       "      <td>Blood type has no impact on someone's personality</td>\n",
       "      <td>0</td>\n",
       "      <td>Superstitions</td>\n",
       "    </tr>\n",
       "    <tr>\n",
       "      <th>1241</th>\n",
       "      <td>Blood type is determined by the presence or absence of certain antigens on the surface of red blood cells and has nothing to do with an individual's character, behavior, or temperament. Therefore, any assumptions or stereotypes about personality traits based on blood type should be disregarded.</td>\n",
       "      <td>1</td>\n",
       "      <td>Superstitions</td>\n",
       "    </tr>\n",
       "  </tbody>\n",
       "</table>\n",
       "<p>1242 rows × 3 columns</p>\n",
       "</div>"
      ],
      "text/plain": [
       "                                                                                                                                                                                                                                                                                                                                                                                                                                                                                                                                                                                                                                                                                                                                                                     text  \\\n",
       "0                                                                                                                                                                                                                                                                                                                                                                                                                                                                                                                                                                                                                                                                                                                 The watermelon seeds pass through your digestive system   \n",
       "1                                                                                                                                                                                                                                                                                                                                                                        However, watermelon seeds can be safely consumed in moderation, as they contain important nutrients such as protein, fiber, magnesium, and healthy fats. Contrary to popular belief, swallowing watermelon seeds is unlikely to result in the growth of a watermelon inside your stomach. However, if you accidentally swallow a large number of seeds, you may experience digestive discomfort.   \n",
       "2                                                                                                                                                                                                                                                                                                                                                                                                                                                                                                                                                                                                                                                                                                                        The precise origin of fortune cookies is unclear   \n",
       "3                                                                                                                                                                                                                                                                                                   Fortune cookies originated in Japan in the late 19th century and were initially called \"tsujiura senbei.\" However, they were first popularized in the United States by Japanese immigrants in California in the early 1900s. By the 1920s, fortune cookies began to be mass-produced and sold in Chinese restaurants throughout the United States. Today, fortune cookies are often associated with Chinese cuisine, but they are not commonly found in China itself.   \n",
       "4                                                                                                                                                                                                                                                                                                                                                                                                                                                                                                                                                                                                                                                                                        Veins appear blue because blue light does not penetrate deeply into human tissue   \n",
       "...                                                                                                                                                                                                                                                                                                                                                                                                                                                                                                                                                                                                                                                                                                                                                                   ...   \n",
       "1237  There is a common myth that if birds eat uncooked rice, it will expand in their stomachs and harm or kill them. However, this is not true. Birds have powerful digestive systems that can easily break down uncooked rice. In fact, many birds naturally consume uncooked rice as part of their diets, particularly wild birds like doves, pigeons, and sparrows.\\r\\n\\r\\nSo, it is safe for birds to eat uncooked rice, and it does not pose any health risks to them. However, it is important to note that excessive consumption of any one type of food can be harmful to birds, so it is best to offer them a varied diet of seeds, grains, fruits, and vegetables.\\r\\n\\r\\nNow that you have this information, you may proceed with writing your planned piece.   \n",
       "1238                                                                                                                                                                                                                                                                                                                                                                                                                                                                                                                                                                                                                                                                                             Nothing in particular happens if you go to sleep with an electric fan on   \n",
       "1239                                                                                                                                                                                                                                                                                                                                       However, it is believed that sleeping with an electric fan on can cause some health problems such as dry skin, sinus problems, and sore muscles. This is because the constant flow of air can dry out your skin and nasal passages while causing muscle stiffness from the cool air. However, there is no solid evidence to prove that sleeping with a fan on is actually harmful. The effects may vary from person to person.   \n",
       "1240                                                                                                                                                                                                                                                                                                                                                                                                                                                                                                                                                                                                                                                                                                                    Blood type has no impact on someone's personality   \n",
       "1241                                                                                                                                                                                                                                                                                                                                                                                                                                                              Blood type is determined by the presence or absence of certain antigens on the surface of red blood cells and has nothing to do with an individual's character, behavior, or temperament. Therefore, any assumptions or stereotypes about personality traits based on blood type should be disregarded.   \n",
       "\n",
       "      label        category  \n",
       "0         0  Misconceptions  \n",
       "1         1  Misconceptions  \n",
       "2         0  Misconceptions  \n",
       "3         1  Misconceptions  \n",
       "4         0  Misconceptions  \n",
       "...     ...             ...  \n",
       "1237      1  Misconceptions  \n",
       "1238      0  Misconceptions  \n",
       "1239      1  Misconceptions  \n",
       "1240      0   Superstitions  \n",
       "1241      1   Superstitions  \n",
       "\n",
       "[1242 rows x 3 columns]"
      ]
     },
     "execution_count": 67,
     "metadata": {},
     "output_type": "execute_result"
    }
   ],
   "source": [
    "train_df"
   ]
  },
  {
   "cell_type": "markdown",
   "id": "4a2e6f7e",
   "metadata": {},
   "source": [
    "### Dummy Classifier"
   ]
  },
  {
   "cell_type": "code",
   "execution_count": 68,
   "id": "42e925ec",
   "metadata": {},
   "outputs": [
    {
     "name": "stderr",
     "output_type": "stream",
     "text": [
      "/sw/pkgs/arc/python3.9-anaconda/2021.11/lib/python3.9/site-packages/sklearn/metrics/_classification.py:1248: UndefinedMetricWarning: Precision and F-score are ill-defined and being set to 0.0 due to no predicted samples. Use `zero_division` parameter to control this behavior.\n",
      "  _warn_prf(average, modifier, msg_start, len(result))\n"
     ]
    },
    {
     "data": {
      "text/plain": [
       "(0.0, 0.0, 0.0, None)"
      ]
     },
     "execution_count": 68,
     "metadata": {},
     "output_type": "execute_result"
    }
   ],
   "source": [
    "mf_dummy_clf = DummyClassifier(strategy=\"most_frequent\")\n",
    "mf_dummy_clf.fit(train_df.text, train_df.label)\n",
    "mf_dummy_test_preds = mf_dummy_clf.predict(dev_df.text)\n",
    "precision_recall_fscore_support(dev_df.label, mf_dummy_test_preds, average='binary')"
   ]
  },
  {
   "cell_type": "code",
   "execution_count": 69,
   "id": "b288a74c",
   "metadata": {
    "scrolled": true
   },
   "outputs": [
    {
     "data": {
      "text/plain": [
       "(0.41605839416058393, 0.36774193548387096, 0.3904109589041096, None)"
      ]
     },
     "execution_count": 69,
     "metadata": {},
     "output_type": "execute_result"
    }
   ],
   "source": [
    "random_dummy_clf = DummyClassifier(strategy=\"stratified\")\n",
    "random_dummy_clf.fit(train_df.text, train_df.label)\n",
    "random_dummy_test_preds = random_dummy_clf.predict(dev_df.text)\n",
    "precision_recall_fscore_support(dev_df.label, random_dummy_test_preds, average='binary')"
   ]
  },
  {
   "cell_type": "code",
   "execution_count": 70,
   "id": "ecda2cf1",
   "metadata": {},
   "outputs": [
    {
     "data": {
      "text/plain": [
       "0.4258064516129032"
      ]
     },
     "execution_count": 70,
     "metadata": {},
     "output_type": "execute_result"
    }
   ],
   "source": [
    "fpr, tpr, threshold = roc_curve(np.array(dev_df.label) , random_dummy_test_preds)\n",
    "auc(fpr, tpr)"
   ]
  },
  {
   "cell_type": "markdown",
   "id": "c025bfda",
   "metadata": {},
   "source": [
    "### Sklearn"
   ]
  },
  {
   "cell_type": "code",
   "execution_count": 71,
   "id": "e13a66e9",
   "metadata": {},
   "outputs": [
    {
     "data": {
      "text/plain": [
       "(0.8424242424242424, 0.896774193548387, 0.8687499999999999, None)"
      ]
     },
     "execution_count": 71,
     "metadata": {},
     "output_type": "execute_result"
    }
   ],
   "source": [
    "# Convert text to features using a simple tf-idf\n",
    "# min_df = is the minimum occurrences for a word to a feature\n",
    "vectorizer = TfidfVectorizer(min_df=10)\n",
    "X_train = vectorizer.fit_transform(train_df.text.values.astype('U'))\n",
    "\n",
    "# Train a Logisitic Regression classifier\n",
    "clf = LogisticRegression()\n",
    "clf.fit(X_train, train_df.label)\n",
    "\n",
    "# Test the classifier by converting test data to features\n",
    "X_test = vectorizer.transform(dev_df.text.values.astype('U'))\n",
    "y_pred = clf.predict(X_test)\n",
    "y_true = dev_df.label\n",
    "\n",
    "# We'll using binary F1 to test whether we can detect sarcastic comments\n",
    "precision_recall_fscore_support(y_true, y_pred, average='binary')\n"
   ]
  },
  {
   "cell_type": "code",
   "execution_count": 72,
   "id": "cf0ec182",
   "metadata": {},
   "outputs": [
    {
     "data": {
      "text/plain": [
       "0.864516129032258"
      ]
     },
     "execution_count": 72,
     "metadata": {},
     "output_type": "execute_result"
    }
   ],
   "source": [
    "fpr, tpr, threshold = roc_curve(np.array(y_true) , y_pred)\n",
    "auc(fpr, tpr)"
   ]
  },
  {
   "cell_type": "code",
   "execution_count": 73,
   "id": "e2124fb9",
   "metadata": {
    "scrolled": true
   },
   "outputs": [
    {
     "data": {
      "text/html": [
       "<div>\n",
       "<style scoped>\n",
       "    .dataframe tbody tr th:only-of-type {\n",
       "        vertical-align: middle;\n",
       "    }\n",
       "\n",
       "    .dataframe tbody tr th {\n",
       "        vertical-align: top;\n",
       "    }\n",
       "\n",
       "    .dataframe thead th {\n",
       "        text-align: right;\n",
       "    }\n",
       "</style>\n",
       "<table border=\"1\" class=\"dataframe\">\n",
       "  <thead>\n",
       "    <tr style=\"text-align: right;\">\n",
       "      <th></th>\n",
       "      <th>text</th>\n",
       "      <th>label</th>\n",
       "      <th>predict</th>\n",
       "    </tr>\n",
       "  </thead>\n",
       "  <tbody>\n",
       "    <tr>\n",
       "      <th>7</th>\n",
       "      <td>The Pilgrims first landed on Cape Cod, Massachusetts on November 11, 1620.</td>\n",
       "      <td>1</td>\n",
       "      <td>0</td>\n",
       "    </tr>\n",
       "    <tr>\n",
       "      <th>13</th>\n",
       "      <td>Humans have five basic senses: sight, hearing, taste, smell, and touch.</td>\n",
       "      <td>1</td>\n",
       "      <td>0</td>\n",
       "    </tr>\n",
       "    <tr>\n",
       "      <th>14</th>\n",
       "      <td>The black box on an airplane is orange</td>\n",
       "      <td>0</td>\n",
       "      <td>1</td>\n",
       "    </tr>\n",
       "    <tr>\n",
       "      <th>18</th>\n",
       "      <td>\"Puff the Magic Dragon\" is about the loss of innocence in children</td>\n",
       "      <td>0</td>\n",
       "      <td>1</td>\n",
       "    </tr>\n",
       "    <tr>\n",
       "      <th>26</th>\n",
       "      <td>Immaculate conception is the Catholic dogma that Mary was free of original sin from the moment of her conception</td>\n",
       "      <td>0</td>\n",
       "      <td>1</td>\n",
       "    </tr>\n",
       "    <tr>\n",
       "      <th>33</th>\n",
       "      <td>There are eight planets in our solar system.</td>\n",
       "      <td>1</td>\n",
       "      <td>0</td>\n",
       "    </tr>\n",
       "    <tr>\n",
       "      <th>41</th>\n",
       "      <td>Pocahontas married John Rolfe in April 1614.</td>\n",
       "      <td>1</td>\n",
       "      <td>0</td>\n",
       "    </tr>\n",
       "    <tr>\n",
       "      <th>43</th>\n",
       "      <td>The first American flag was designed by Betsy Ross, a seamstress from Philadelphia, in 1776.</td>\n",
       "      <td>1</td>\n",
       "      <td>0</td>\n",
       "    </tr>\n",
       "    <tr>\n",
       "      <th>46</th>\n",
       "      <td>Robert Livingston, James Monroe, and Francois Barbe-Marbois signed the Louisiana Purchase</td>\n",
       "      <td>0</td>\n",
       "      <td>1</td>\n",
       "    </tr>\n",
       "    <tr>\n",
       "      <th>48</th>\n",
       "      <td>Many inventors are credited with the invention of incandescent lamps prior to Thomas Edison</td>\n",
       "      <td>0</td>\n",
       "      <td>1</td>\n",
       "    </tr>\n",
       "    <tr>\n",
       "      <th>49</th>\n",
       "      <td>The light bulb was invented by Thomas Edison.</td>\n",
       "      <td>1</td>\n",
       "      <td>0</td>\n",
       "    </tr>\n",
       "    <tr>\n",
       "      <th>50</th>\n",
       "      <td>The construction of the autobahn began in the mid-1920s</td>\n",
       "      <td>0</td>\n",
       "      <td>1</td>\n",
       "    </tr>\n",
       "    <tr>\n",
       "      <th>56</th>\n",
       "      <td>The size of the force was in the thousands</td>\n",
       "      <td>0</td>\n",
       "      <td>1</td>\n",
       "    </tr>\n",
       "    <tr>\n",
       "      <th>57</th>\n",
       "      <td>The Spartan-led Greek army at Thermopylae was comprised of approximately 7,000 soldiers, with only 300 being Spartans.</td>\n",
       "      <td>1</td>\n",
       "      <td>0</td>\n",
       "    </tr>\n",
       "    <tr>\n",
       "      <th>59</th>\n",
       "      <td>Christopher Columbus.</td>\n",
       "      <td>1</td>\n",
       "      <td>0</td>\n",
       "    </tr>\n",
       "    <tr>\n",
       "      <th>64</th>\n",
       "      <td>It is not dangerous to be an organ donor</td>\n",
       "      <td>0</td>\n",
       "      <td>1</td>\n",
       "    </tr>\n",
       "    <tr>\n",
       "      <th>76</th>\n",
       "      <td>The Bible claims that the love of money is the root of all evil</td>\n",
       "      <td>0</td>\n",
       "      <td>1</td>\n",
       "    </tr>\n",
       "    <tr>\n",
       "      <th>90</th>\n",
       "      <td>Yes, the majority of a set of numbers can be larger than the average</td>\n",
       "      <td>0</td>\n",
       "      <td>1</td>\n",
       "    </tr>\n",
       "    <tr>\n",
       "      <th>92</th>\n",
       "      <td>Vomitoriums were the entrances or exits in stadiums or theaters</td>\n",
       "      <td>0</td>\n",
       "      <td>1</td>\n",
       "    </tr>\n",
       "    <tr>\n",
       "      <th>101</th>\n",
       "      <td>No, 91 is not a prime number. It is divisible by 7 and 13.</td>\n",
       "      <td>1</td>\n",
       "      <td>0</td>\n",
       "    </tr>\n",
       "    <tr>\n",
       "      <th>114</th>\n",
       "      <td>Claudette Colvin was the first person to refuse to give up her seat on the bus to a white passenger</td>\n",
       "      <td>0</td>\n",
       "      <td>1</td>\n",
       "    </tr>\n",
       "    <tr>\n",
       "      <th>132</th>\n",
       "      <td>Sirius is the brightest star in the night sky</td>\n",
       "      <td>0</td>\n",
       "      <td>1</td>\n",
       "    </tr>\n",
       "    <tr>\n",
       "      <th>134</th>\n",
       "      <td>The purpose of a camel's hump is to store fat</td>\n",
       "      <td>0</td>\n",
       "      <td>1</td>\n",
       "    </tr>\n",
       "    <tr>\n",
       "      <th>140</th>\n",
       "      <td>Light behaves as both a particle and a wave</td>\n",
       "      <td>0</td>\n",
       "      <td>1</td>\n",
       "    </tr>\n",
       "    <tr>\n",
       "      <th>144</th>\n",
       "      <td>Criticality is the normal condition of a nuclear reactor</td>\n",
       "      <td>0</td>\n",
       "      <td>1</td>\n",
       "    </tr>\n",
       "    <tr>\n",
       "      <th>148</th>\n",
       "      <td>Yes, a husband and wife can be arrested for the same crime</td>\n",
       "      <td>0</td>\n",
       "      <td>1</td>\n",
       "    </tr>\n",
       "    <tr>\n",
       "      <th>166</th>\n",
       "      <td>Dogs see yellow, blue, brown, and gray</td>\n",
       "      <td>0</td>\n",
       "      <td>1</td>\n",
       "    </tr>\n",
       "    <tr>\n",
       "      <th>171</th>\n",
       "      <td>No, Neil Armstrong passed away on August 25, 2012.</td>\n",
       "      <td>1</td>\n",
       "      <td>0</td>\n",
       "    </tr>\n",
       "    <tr>\n",
       "      <th>173</th>\n",
       "      <td>Chartreuse is a color between green and yellow, named after the French liqueur. It can vary in shade, but generally has a bright, vibrant tone.</td>\n",
       "      <td>1</td>\n",
       "      <td>0</td>\n",
       "    </tr>\n",
       "    <tr>\n",
       "      <th>174</th>\n",
       "      <td>The name of the villainous Gremlin was Stripe</td>\n",
       "      <td>0</td>\n",
       "      <td>1</td>\n",
       "    </tr>\n",
       "    <tr>\n",
       "      <th>190</th>\n",
       "      <td>You will be assessed and seen in order of priority if you are brought to the hospital in an ambulance</td>\n",
       "      <td>0</td>\n",
       "      <td>1</td>\n",
       "    </tr>\n",
       "    <tr>\n",
       "      <th>196</th>\n",
       "      <td>Yes, it is legal to discuss your salary with your coworkers</td>\n",
       "      <td>0</td>\n",
       "      <td>1</td>\n",
       "    </tr>\n",
       "    <tr>\n",
       "      <th>205</th>\n",
       "      <td>The people of Jonestown took a grape-flavored drink laced with cyanide during their mass suicide on November 18, 1978.</td>\n",
       "      <td>1</td>\n",
       "      <td>0</td>\n",
       "    </tr>\n",
       "    <tr>\n",
       "      <th>238</th>\n",
       "      <td>People can cross the Red Sea by boat or by plane</td>\n",
       "      <td>0</td>\n",
       "      <td>1</td>\n",
       "    </tr>\n",
       "    <tr>\n",
       "      <th>262</th>\n",
       "      <td>The flight was shot down by the Soviet Union</td>\n",
       "      <td>0</td>\n",
       "      <td>1</td>\n",
       "    </tr>\n",
       "    <tr>\n",
       "      <th>270</th>\n",
       "      <td>J. B. Rhine attemped to prove the existence of ESP, but his methodology was flawed</td>\n",
       "      <td>0</td>\n",
       "      <td>1</td>\n",
       "    </tr>\n",
       "    <tr>\n",
       "      <th>271</th>\n",
       "      <td>J.B. Rhine conclusively proved the phenomenon of extra-sensory perception (ESP) through his experiments with Zener cards.</td>\n",
       "      <td>1</td>\n",
       "      <td>0</td>\n",
       "    </tr>\n",
       "    <tr>\n",
       "      <th>295</th>\n",
       "      <td>Yes, all humans are human. Human is a term used to describe members of the biological species Homo sapiens.</td>\n",
       "      <td>1</td>\n",
       "      <td>0</td>\n",
       "    </tr>\n",
       "    <tr>\n",
       "      <th>301</th>\n",
       "      <td>AFI's list of 100 greatest American movies that came out after 1980 is not a ranked list. Therefore, there is no single top film on the list.</td>\n",
       "      <td>1</td>\n",
       "      <td>0</td>\n",
       "    </tr>\n",
       "    <tr>\n",
       "      <th>304</th>\n",
       "      <td>King Henry is holding a glove in the Portrait of Henry VIII</td>\n",
       "      <td>0</td>\n",
       "      <td>1</td>\n",
       "    </tr>\n",
       "    <tr>\n",
       "      <th>307</th>\n",
       "      <td>No, Mother Teresa was not alive when she became a saint. She was canonized by the Catholic Church in 2016, 19 years after her death in 1997.</td>\n",
       "      <td>1</td>\n",
       "      <td>0</td>\n",
       "    </tr>\n",
       "    <tr>\n",
       "      <th>308</th>\n",
       "      <td>Yes, Bruno Richard Hauptmann was sentenced to death for the kidnapping</td>\n",
       "      <td>0</td>\n",
       "      <td>1</td>\n",
       "    </tr>\n",
       "  </tbody>\n",
       "</table>\n",
       "</div>"
      ],
      "text/plain": [
       "                                                                                                                                                text  \\\n",
       "7                                                                         The Pilgrims first landed on Cape Cod, Massachusetts on November 11, 1620.   \n",
       "13                                                                           Humans have five basic senses: sight, hearing, taste, smell, and touch.   \n",
       "14                                                                                                            The black box on an airplane is orange   \n",
       "18                                                                                \"Puff the Magic Dragon\" is about the loss of innocence in children   \n",
       "26                                  Immaculate conception is the Catholic dogma that Mary was free of original sin from the moment of her conception   \n",
       "33                                                                                                      There are eight planets in our solar system.   \n",
       "41                                                                                                      Pocahontas married John Rolfe in April 1614.   \n",
       "43                                                      The first American flag was designed by Betsy Ross, a seamstress from Philadelphia, in 1776.   \n",
       "46                                                         Robert Livingston, James Monroe, and Francois Barbe-Marbois signed the Louisiana Purchase   \n",
       "48                                                       Many inventors are credited with the invention of incandescent lamps prior to Thomas Edison   \n",
       "49                                                                                                     The light bulb was invented by Thomas Edison.   \n",
       "50                                                                                           The construction of the autobahn began in the mid-1920s   \n",
       "56                                                                                                        The size of the force was in the thousands   \n",
       "57                            The Spartan-led Greek army at Thermopylae was comprised of approximately 7,000 soldiers, with only 300 being Spartans.   \n",
       "59                                                                                                                             Christopher Columbus.   \n",
       "64                                                                                                          It is not dangerous to be an organ donor   \n",
       "76                                                                                   The Bible claims that the love of money is the root of all evil   \n",
       "90                                                                              Yes, the majority of a set of numbers can be larger than the average   \n",
       "92                                                                                   Vomitoriums were the entrances or exits in stadiums or theaters   \n",
       "101                                                                                       No, 91 is not a prime number. It is divisible by 7 and 13.   \n",
       "114                                              Claudette Colvin was the first person to refuse to give up her seat on the bus to a white passenger   \n",
       "132                                                                                                    Sirius is the brightest star in the night sky   \n",
       "134                                                                                                    The purpose of a camel's hump is to store fat   \n",
       "140                                                                                                      Light behaves as both a particle and a wave   \n",
       "144                                                                                         Criticality is the normal condition of a nuclear reactor   \n",
       "148                                                                                       Yes, a husband and wife can be arrested for the same crime   \n",
       "166                                                                                                           Dogs see yellow, blue, brown, and gray   \n",
       "171                                                                                               No, Neil Armstrong passed away on August 25, 2012.   \n",
       "173  Chartreuse is a color between green and yellow, named after the French liqueur. It can vary in shade, but generally has a bright, vibrant tone.   \n",
       "174                                                                                                    The name of the villainous Gremlin was Stripe   \n",
       "190                                            You will be assessed and seen in order of priority if you are brought to the hospital in an ambulance   \n",
       "196                                                                                      Yes, it is legal to discuss your salary with your coworkers   \n",
       "205                           The people of Jonestown took a grape-flavored drink laced with cyanide during their mass suicide on November 18, 1978.   \n",
       "238                                                                                                 People can cross the Red Sea by boat or by plane   \n",
       "262                                                                                                     The flight was shot down by the Soviet Union   \n",
       "270                                                               J. B. Rhine attemped to prove the existence of ESP, but his methodology was flawed   \n",
       "271                        J.B. Rhine conclusively proved the phenomenon of extra-sensory perception (ESP) through his experiments with Zener cards.   \n",
       "295                                      Yes, all humans are human. Human is a term used to describe members of the biological species Homo sapiens.   \n",
       "301    AFI's list of 100 greatest American movies that came out after 1980 is not a ranked list. Therefore, there is no single top film on the list.   \n",
       "304                                                                                      King Henry is holding a glove in the Portrait of Henry VIII   \n",
       "307     No, Mother Teresa was not alive when she became a saint. She was canonized by the Catholic Church in 2016, 19 years after her death in 1997.   \n",
       "308                                                                           Yes, Bruno Richard Hauptmann was sentenced to death for the kidnapping   \n",
       "\n",
       "     label  predict  \n",
       "7        1        0  \n",
       "13       1        0  \n",
       "14       0        1  \n",
       "18       0        1  \n",
       "26       0        1  \n",
       "33       1        0  \n",
       "41       1        0  \n",
       "43       1        0  \n",
       "46       0        1  \n",
       "48       0        1  \n",
       "49       1        0  \n",
       "50       0        1  \n",
       "56       0        1  \n",
       "57       1        0  \n",
       "59       1        0  \n",
       "64       0        1  \n",
       "76       0        1  \n",
       "90       0        1  \n",
       "92       0        1  \n",
       "101      1        0  \n",
       "114      0        1  \n",
       "132      0        1  \n",
       "134      0        1  \n",
       "140      0        1  \n",
       "144      0        1  \n",
       "148      0        1  \n",
       "166      0        1  \n",
       "171      1        0  \n",
       "173      1        0  \n",
       "174      0        1  \n",
       "190      0        1  \n",
       "196      0        1  \n",
       "205      1        0  \n",
       "238      0        1  \n",
       "262      0        1  \n",
       "270      0        1  \n",
       "271      1        0  \n",
       "295      1        0  \n",
       "301      1        0  \n",
       "304      0        1  \n",
       "307      1        0  \n",
       "308      0        1  "
      ]
     },
     "execution_count": 73,
     "metadata": {},
     "output_type": "execute_result"
    }
   ],
   "source": [
    "pred_df = pd.DataFrame({'text': dev_df.text, 'label': dev_df.label, 'predict': y_pred})\n",
    "pd.set_option('display.max_colwidth', None)\n",
    "not_match_df = pred_df[pred_df.label != pred_df.predict]\n",
    "not_match_df"
   ]
  },
  {
   "cell_type": "markdown",
   "id": "e917d647",
   "metadata": {},
   "source": [
    "### Preprocess"
   ]
  },
  {
   "cell_type": "code",
   "execution_count": 74,
   "id": "79e3290b",
   "metadata": {
    "scrolled": true
   },
   "outputs": [
    {
     "name": "stdout",
     "output_type": "stream",
     "text": [
      "Downloading and preparing dataset csv/default to /home/hyfrankl/.cache/huggingface/datasets/csv/default-8e0f25055dda9db0/0.0.0/6954658bab30a358235fa864b05cf819af0e179325c740e4bc853bcc7ec513e1...\n"
     ]
    },
    {
     "data": {
      "application/vnd.jupyter.widget-view+json": {
       "model_id": "ddbb205bedde4180842104cb831ea68b",
       "version_major": 2,
       "version_minor": 0
      },
      "text/plain": [
       "Downloading data files:   0%|          | 0/2 [00:00<?, ?it/s]"
      ]
     },
     "metadata": {},
     "output_type": "display_data"
    },
    {
     "data": {
      "application/vnd.jupyter.widget-view+json": {
       "model_id": "a99f63265fa446779a37ce1a89cfdc84",
       "version_major": 2,
       "version_minor": 0
      },
      "text/plain": [
       "Extracting data files:   0%|          | 0/2 [00:00<?, ?it/s]"
      ]
     },
     "metadata": {},
     "output_type": "display_data"
    },
    {
     "data": {
      "application/vnd.jupyter.widget-view+json": {
       "model_id": "",
       "version_major": 2,
       "version_minor": 0
      },
      "text/plain": [
       "Generating train split: 0 examples [00:00, ? examples/s]"
      ]
     },
     "metadata": {},
     "output_type": "display_data"
    },
    {
     "data": {
      "application/vnd.jupyter.widget-view+json": {
       "model_id": "",
       "version_major": 2,
       "version_minor": 0
      },
      "text/plain": [
       "Generating dev split: 0 examples [00:00, ? examples/s]"
      ]
     },
     "metadata": {},
     "output_type": "display_data"
    },
    {
     "name": "stdout",
     "output_type": "stream",
     "text": [
      "Dataset csv downloaded and prepared to /home/hyfrankl/.cache/huggingface/datasets/csv/default-8e0f25055dda9db0/0.0.0/6954658bab30a358235fa864b05cf819af0e179325c740e4bc853bcc7ec513e1. Subsequent calls will reuse this data.\n"
     ]
    },
    {
     "data": {
      "application/vnd.jupyter.widget-view+json": {
       "model_id": "14faa3a9245e4a778c032c81b2432056",
       "version_major": 2,
       "version_minor": 0
      },
      "text/plain": [
       "  0%|          | 0/2 [00:00<?, ?it/s]"
      ]
     },
     "metadata": {},
     "output_type": "display_data"
    },
    {
     "data": {
      "text/plain": [
       "DatasetDict({\n",
       "    train: Dataset({\n",
       "        features: ['Unnamed: 0', 'text', 'label', 'category'],\n",
       "        num_rows: 1242\n",
       "    })\n",
       "    dev: Dataset({\n",
       "        features: ['Unnamed: 0', 'text', 'label', 'category'],\n",
       "        num_rows: 310\n",
       "    })\n",
       "})"
      ]
     },
     "execution_count": 74,
     "metadata": {},
     "output_type": "execute_result"
    }
   ],
   "source": [
    "all_dataset = load_dataset('csv', data_files={'train': 'squad_train.csv', 'dev': 'squad_test.csv'})\n",
    "all_dataset"
   ]
  },
  {
   "cell_type": "markdown",
   "id": "8f9e12c5",
   "metadata": {},
   "source": [
    "### HuggingFace"
   ]
  },
  {
   "cell_type": "code",
   "execution_count": 75,
   "id": "fa075a2b",
   "metadata": {},
   "outputs": [
    {
     "data": {
      "application/vnd.jupyter.widget-view+json": {
       "model_id": "",
       "version_major": 2,
       "version_minor": 0
      },
      "text/plain": [
       "Map:   0%|          | 0/1242 [00:00<?, ? examples/s]"
      ]
     },
     "metadata": {},
     "output_type": "display_data"
    },
    {
     "data": {
      "application/vnd.jupyter.widget-view+json": {
       "model_id": "",
       "version_major": 2,
       "version_minor": 0
      },
      "text/plain": [
       "Map:   0%|          | 0/310 [00:00<?, ? examples/s]"
      ]
     },
     "metadata": {},
     "output_type": "display_data"
    }
   ],
   "source": [
    "tokenizer = AutoTokenizer.from_pretrained(\"microsoft/MiniLM-L12-H384-uncased\")\n",
    "def preprocess_function(examples):\n",
    "    return tokenizer(examples[\"text\"], truncation=True, max_length=512)\n",
    "\n",
    "tokenized_all = all_dataset.map(preprocess_function, batched=True)\n",
    "data_collator = DataCollatorWithPadding(tokenizer=tokenizer)"
   ]
  },
  {
   "cell_type": "code",
   "execution_count": null,
   "id": "482df0b4",
   "metadata": {},
   "outputs": [
    {
     "name": "stderr",
     "output_type": "stream",
     "text": [
      "Some weights of BertForSequenceClassification were not initialized from the model checkpoint at microsoft/MiniLM-L12-H384-uncased and are newly initialized: ['classifier.bias', 'classifier.weight']\n",
      "You should probably TRAIN this model on a down-stream task to be able to use it for predictions and inference.\n",
      "Some weights of BertForSequenceClassification were not initialized from the model checkpoint at microsoft/MiniLM-L12-H384-uncased and are newly initialized: ['classifier.bias', 'classifier.weight']\n",
      "You should probably TRAIN this model on a down-stream task to be able to use it for predictions and inference.\n",
      "/home/hyfrankl/.local/lib/python3.9/site-packages/transformers/optimization.py:391: FutureWarning: This implementation of AdamW is deprecated and will be removed in a future version. Use the PyTorch implementation torch.optim.AdamW instead, or set `no_deprecation_warning=True` to disable this warning\n",
      "  warnings.warn(\n",
      "You're using a BertTokenizerFast tokenizer. Please note that with a fast tokenizer, using the `__call__` method is faster than using a method to encode the text followed by a call to the `pad` method to get a padded encoding.\n"
     ]
    },
    {
     "data": {
      "text/html": [
       "\n",
       "    <div>\n",
       "      \n",
       "      <progress value='121' max='156' style='width:300px; height:20px; vertical-align: middle;'></progress>\n",
       "      [121/156 00:05 < 00:01, 20.34 it/s, Epoch 0.77/1]\n",
       "    </div>\n",
       "    <table border=\"1\" class=\"dataframe\">\n",
       "  <thead>\n",
       " <tr style=\"text-align: left;\">\n",
       "      <th>Epoch</th>\n",
       "      <th>Training Loss</th>\n",
       "      <th>Validation Loss</th>\n",
       "    </tr>\n",
       "  </thead>\n",
       "  <tbody>\n",
       "  </tbody>\n",
       "</table><p>"
      ],
      "text/plain": [
       "<IPython.core.display.HTML object>"
      ]
     },
     "metadata": {},
     "output_type": "display_data"
    }
   ],
   "source": [
    "model_name = \"microsoft/MiniLM-L12-H384-uncased\"\n",
    "\n",
    "output_dir = '.'\n",
    "\n",
    "def model_init():\n",
    "    return AutoModelForSequenceClassification.from_pretrained(model_name, num_labels=2)\n",
    "\n",
    "\n",
    "training_args = TrainingArguments(\n",
    "    output_dir=output_dir,\n",
    "    overwrite_output_dir=True,\n",
    "    learning_rate=8e-5,\n",
    "    per_device_train_batch_size=8,\n",
    "    per_device_eval_batch_size=8,\n",
    "    num_train_epochs=1,\n",
    "    weight_decay=0.01,\n",
    "    do_eval=True,\n",
    "    seed=1234,\n",
    "    save_strategy='epoch',\n",
    "    evaluation_strategy='epoch',\n",
    "    logging_dir=output_dir + 'logs/',\n",
    "    label_smoothing_factor=0.1,\n",
    "    load_best_model_at_end=True,\n",
    ")\n",
    "\n",
    "trainer = Trainer(\n",
    "    model_init=model_init,\n",
    "    args=training_args,\n",
    "    train_dataset=tokenized_all[\"train\"],\n",
    "    eval_dataset=tokenized_all[\"dev\"],\n",
    "    tokenizer=tokenizer,\n",
    "    data_collator=data_collator,\n",
    ")\n",
    "\n",
    "trainer.train()"
   ]
  },
  {
   "cell_type": "code",
   "execution_count": null,
   "id": "7a1b4961",
   "metadata": {},
   "outputs": [],
   "source": [
    "trainer.evaluate()\n",
    "\n",
    "dev_logits = trainer.predict(tokenized_all[\"dev\"])\n",
    "print(dev_logits.predictions.shape, dev_logits.label_ids.shape)\n",
    "dev_preds = np.argmax(dev_logits.predictions, axis=-1)\n",
    "precision_recall_fscore_support(dev_logits.label_ids, dev_preds, average='binary')"
   ]
  },
  {
   "cell_type": "code",
   "execution_count": null,
   "id": "05ba33fe",
   "metadata": {},
   "outputs": [],
   "source": [
    "fpr, tpr, threshold = roc_curve(np.array(dev_logits.label_ids), dev_preds)\n",
    "auc(fpr, tpr)"
   ]
  },
  {
   "cell_type": "code",
   "execution_count": null,
   "id": "f0a605a8",
   "metadata": {},
   "outputs": [],
   "source": []
  },
  {
   "cell_type": "code",
   "execution_count": null,
   "id": "023c8cde",
   "metadata": {},
   "outputs": [],
   "source": []
  }
 ],
 "metadata": {
  "kernelspec": {
   "display_name": "Python 3 (ipykernel)",
   "language": "python",
   "name": "python3"
  },
  "language_info": {
   "codemirror_mode": {
    "name": "ipython",
    "version": 3
   },
   "file_extension": ".py",
   "mimetype": "text/x-python",
   "name": "python",
   "nbconvert_exporter": "python",
   "pygments_lexer": "ipython3",
   "version": "3.9.7"
  }
 },
 "nbformat": 4,
 "nbformat_minor": 5
}
