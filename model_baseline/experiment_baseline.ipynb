{
 "cells": [
  {
   "cell_type": "code",
   "execution_count": 1,
   "metadata": {},
   "outputs": [],
   "source": [
    "import csv\n",
    "import json\n",
    "\n",
    "import numpy as np\n",
    "import pandas as pd\n",
    "from datasets import load_dataset\n",
    "\n",
    "from sklearn.model_selection import train_test_split\n",
    "from sklearn.dummy import DummyClassifier\n",
    "from sklearn.feature_extraction.text import TfidfVectorizer\n",
    "from sklearn.linear_model import LogisticRegression\n",
    "from sklearn.metrics import precision_recall_fscore_support, roc_curve, auc\n",
    "\n",
    "from transformers import Trainer, TrainingArguments\n",
    "from transformers import DataCollatorWithPadding, AutoTokenizer, AutoModelForSequenceClassification\n",
    "\n",
    "import torch\n",
    "\n",
    "# from tqdm import tqdm\n",
    "# import os\n",
    "# import evaluate\n",
    "# from datasets import load_dataset\n",
    "# from collections import Counter, defaultdict\n",
    "\n",
    "# from sklearn.ensemble import RandomForestClassifier, GradientBoostingClassifier\n"
   ]
  },
  {
   "cell_type": "code",
   "execution_count": 2,
   "metadata": {},
   "outputs": [],
   "source": [
    "with open(\"all.jsonl\", 'r') as jsonl_file:\n",
    "    jsonl_data = jsonl_file.read()\n",
    "    json_lines = [\n",
    "        json_line for json_line in jsonl_data.splitlines() if json_line.strip()]\n",
    "    jsons_objs = [json.loads(json_line) for json_line in json_lines]\n",
    "    jsons_objs_expand = []\n",
    "    for i, obj in enumerate(jsons_objs):\n",
    "        for human_answer in obj['human_answers']:\n",
    "            jsons_objs_expand.append(\n",
    "                {'question_id': i, 'text': human_answer, 'label': 0})\n",
    "        for chatgpt_answer in obj['chatgpt_answers']:\n",
    "            jsons_objs_expand.append(\n",
    "                {'question_id': i, 'text': chatgpt_answer, 'label': 1})"
   ]
  },
  {
   "cell_type": "code",
   "execution_count": 3,
   "metadata": {},
   "outputs": [],
   "source": [
    "with open(\"all.csv\", \"w\") as csv_file:\n",
    "    writer = csv.writer(csv_file)\n",
    "    writer.writerow([key for key in jsons_objs_expand[0].keys()])\n",
    "    writer.writerows([json_obj.values() for json_obj in jsons_objs_expand])"
   ]
  },
  {
   "cell_type": "code",
   "execution_count": 4,
   "metadata": {},
   "outputs": [],
   "source": [
    "with open('id_to_question.csv', 'w') as f:\n",
    "    writer = csv.writer(f)\n",
    "    writer.writerow(['id', 'question'])\n",
    "    for i, obj in enumerate(jsons_objs):\n",
    "        writer.writerow([i, obj['question']])"
   ]
  },
  {
   "cell_type": "code",
   "execution_count": 5,
   "metadata": {},
   "outputs": [
    {
     "data": {
      "text/html": [
       "<div>\n",
       "<style scoped>\n",
       "    .dataframe tbody tr th:only-of-type {\n",
       "        vertical-align: middle;\n",
       "    }\n",
       "\n",
       "    .dataframe tbody tr th {\n",
       "        vertical-align: top;\n",
       "    }\n",
       "\n",
       "    .dataframe thead th {\n",
       "        text-align: right;\n",
       "    }\n",
       "</style>\n",
       "<table border=\"1\" class=\"dataframe\">\n",
       "  <thead>\n",
       "    <tr style=\"text-align: right;\">\n",
       "      <th></th>\n",
       "      <th>question_id</th>\n",
       "      <th>text</th>\n",
       "      <th>label</th>\n",
       "    </tr>\n",
       "  </thead>\n",
       "  <tbody>\n",
       "    <tr>\n",
       "      <th>0</th>\n",
       "      <td>0</td>\n",
       "      <td>Basically there are many categories of \" Best ...</td>\n",
       "      <td>0</td>\n",
       "    </tr>\n",
       "    <tr>\n",
       "      <th>1</th>\n",
       "      <td>0</td>\n",
       "      <td>If you 're hearing about it , it 's because it...</td>\n",
       "      <td>0</td>\n",
       "    </tr>\n",
       "    <tr>\n",
       "      <th>2</th>\n",
       "      <td>0</td>\n",
       "      <td>One reason is lots of catagories . However , h...</td>\n",
       "      <td>0</td>\n",
       "    </tr>\n",
       "    <tr>\n",
       "      <th>3</th>\n",
       "      <td>0</td>\n",
       "      <td>There are many different best seller lists tha...</td>\n",
       "      <td>1</td>\n",
       "    </tr>\n",
       "    <tr>\n",
       "      <th>4</th>\n",
       "      <td>1</td>\n",
       "      <td>salt is good for not dying in car crashes and ...</td>\n",
       "      <td>0</td>\n",
       "    </tr>\n",
       "  </tbody>\n",
       "</table>\n",
       "</div>"
      ],
      "text/plain": [
       "   question_id                                               text  label\n",
       "0            0  Basically there are many categories of \" Best ...      0\n",
       "1            0  If you 're hearing about it , it 's because it...      0\n",
       "2            0  One reason is lots of catagories . However , h...      0\n",
       "3            0  There are many different best seller lists tha...      1\n",
       "4            1  salt is good for not dying in car crashes and ...      0"
      ]
     },
     "execution_count": 5,
     "metadata": {},
     "output_type": "execute_result"
    }
   ],
   "source": [
    "all_df = pd.read_csv(\"all.csv\")\n",
    "all_df.dropna(inplace=True)\n",
    "all_df.head()"
   ]
  },
  {
   "cell_type": "code",
   "execution_count": 6,
   "metadata": {
    "scrolled": true
   },
   "outputs": [
    {
     "data": {
      "text/plain": [
       "((68344, 3), (17087, 3))"
      ]
     },
     "execution_count": 6,
     "metadata": {},
     "output_type": "execute_result"
    }
   ],
   "source": [
    "train_df, dev_df = train_test_split(all_df, test_size=0.2, random_state=42)\n",
    "train_df.shape, dev_df.shape"
   ]
  },
  {
   "cell_type": "markdown",
   "metadata": {},
   "source": [
    "### Data Augumentation"
   ]
  },
  {
   "cell_type": "code",
   "execution_count": 7,
   "metadata": {},
   "outputs": [],
   "source": [
    "aug_dev_df = dev_df.copy()"
   ]
  },
  {
   "cell_type": "code",
   "execution_count": 42,
   "metadata": {},
   "outputs": [],
   "source": [
    "begin_with = [\n",
    "    \"I find that\",\n",
    "    \"One can find that\",\n",
    "    \"Maybe you can find that\",\n",
    "    \"Hmmm, I think that\",\n",
    "    \"With my knowledge, I think that\",\n",
    "    \"Hope this helps: \",\n",
    "    \"From my experience, I believe that\",\n",
    "    \"As far as I know,\",\n",
    "    \"It seems to me that\",\n",
    "    \"I've heard that\",\n",
    "    \"If I had to guess, I'd say that\",\n",
    "    \"I'd like to suggest that\",\n",
    "    \"In my opinion,\",\n",
    "    \"It's possible that\",\n",
    "    \"I'm inclined to think that\",\n",
    "    \"After careful consideration, I've concluded that\",\n",
    "    \"Perhaps it's worth considering that\",\n",
    "    \"I've noticed that\",\n",
    "    \"Based on my understanding,\",\n",
    "    \"It's my belief that\",\n",
    "    \"If you ask me,\",\n",
    "    \"Personally, I feel that\",\n",
    "    \"In my humble opinion,\",\n",
    "    \"Emmm,\"\n",
    "]"
   ]
  },
  {
   "cell_type": "code",
   "execution_count": 43,
   "metadata": {},
   "outputs": [],
   "source": [
    "import random\n",
    "new_text = []\n",
    "for text in aug_dev_df['text']:\n",
    "    idx = random.randint(0, len(begin_with) - 1)\n",
    "    new_text.append(begin_with[idx] + ' ' + text)"
   ]
  },
  {
   "cell_type": "code",
   "execution_count": 44,
   "metadata": {},
   "outputs": [],
   "source": [
    "aug_dev_df['text'] = new_text "
   ]
  },
  {
   "cell_type": "code",
   "execution_count": 45,
   "metadata": {
    "scrolled": true
   },
   "outputs": [
    {
     "data": {
      "text/html": [
       "<div>\n",
       "<style scoped>\n",
       "    .dataframe tbody tr th:only-of-type {\n",
       "        vertical-align: middle;\n",
       "    }\n",
       "\n",
       "    .dataframe tbody tr th {\n",
       "        vertical-align: top;\n",
       "    }\n",
       "\n",
       "    .dataframe thead th {\n",
       "        text-align: right;\n",
       "    }\n",
       "</style>\n",
       "<table border=\"1\" class=\"dataframe\">\n",
       "  <thead>\n",
       "    <tr style=\"text-align: right;\">\n",
       "      <th></th>\n",
       "      <th>question_id</th>\n",
       "      <th>text</th>\n",
       "      <th>label</th>\n",
       "    </tr>\n",
       "  </thead>\n",
       "  <tbody>\n",
       "    <tr>\n",
       "      <th>28148</th>\n",
       "      <td>7037</td>\n",
       "      <td>I'm inclined to think that Maybe you can find that Eggs shrink as they develop . Even if they 're not fertile they still shrink as water slowly evaporates . Bird eggs have both a leathery shell ( mostly collagen ) and a hard shell ( mineralized with chalk ) . The leathery shell membrane peels back from the chalky outer shell , and that 's what makes the bubble . Technically it 's called the air cell . By the time a chick is ready to hatch , it 's absorbing oxygen through an umbilicus ( like mammal babies ) that attaches to blood vessels on the inside of the shell . For it to hatch it has to switch to using its lungs , and stop that umbilical blood flow . So it breaks the air cell ( which has gotten large by this point ) and breathes that air ( also through the outer shell ) . Once it has the strength to hatch , the chick breaks the outer shell too .</td>\n",
       "      <td>0</td>\n",
       "    </tr>\n",
       "    <tr>\n",
       "      <th>41039</th>\n",
       "      <td>10310</td>\n",
       "      <td>Hmmm, I think that I'd like to suggest that 1 . People think insects are gross , and we do n't want to eat things that we think are gross . 2 . A lot of people do n't like seeing the fact that their food is an animal . Eating things with the head still on it , or eating things that are recognizably body parts , tends to turn people off . Because bugs are so small , it 's hard to make food out of them without just eating the whole thing and recognizing that you 're sticking a bug in your mouth .</td>\n",
       "      <td>0</td>\n",
       "    </tr>\n",
       "    <tr>\n",
       "      <th>51456</th>\n",
       "      <td>12977</td>\n",
       "      <td>I find that I'd like to suggest that It's important to note that the number of visitors to a website does not necessarily correspond to the number of posts that are made on the site. A visitor is someone who simply visits the website, while a post is a piece of content that is created and shared by a user on the site. Reddit is a very popular website, with over 4 billion visitors per year. This means that a lot of people are visiting the site and looking at the content that is shared there. However, not all of these visitors are necessarily creating new posts or contributing to the site in other ways. Additionally, it's worth noting that not all posts on Reddit are created equal. Some posts are more popular and receive more attention from users, while others may not be as widely viewed or discussed. This is true of any website or social media platform, where some content tends to be more popular than others. So to sum it up, the number of visitors to a website like Reddit does not necessarily have anything to do with the number of posts that are made on the site. Different posts can receive different levels of attention and engagement, regardless of the overall popularity of the site.</td>\n",
       "      <td>1</td>\n",
       "    </tr>\n",
       "    <tr>\n",
       "      <th>29721</th>\n",
       "      <td>7430</td>\n",
       "      <td>Maybe you can find that In my humble opinion, It should n't be any slower than swiping , but I believe your still working out some kinks in the US . You have n't had them for very long , have you ?</td>\n",
       "      <td>0</td>\n",
       "    </tr>\n",
       "    <tr>\n",
       "      <th>60715</th>\n",
       "      <td>15292</td>\n",
       "      <td>Based on my understanding, Hope this helps:  I ca n't speak for genetics , but I am certain that one factor is the track - and - field centered culture . Take the US for example . A kid who discovers that he is a little stronger and faster than the other kids in playground , may decide that sports is his calling . But which sport ? So many choices ... He has football , soccer , swimming , baseball , lacrosse ... you get the idea . More than likely he is going to settle on one of the more popular sports such as football , because of the prestige and money ( when was the last time ESPN paid attention to college track and field the way they pay attention to football ? ) In Jamaica , there is n't much infrastructure for many sports . Pretty much the only popular sports are ones that have minimal infrastructure . There is cricket , which was a popular sport since the days of British rule , soccer , because you just need a ball and a field , and track and field . ( Trivia : Usain Bolt was going to focus on cricket in high school , before his coach realized that he was pretty quick on his feet and should also look into track and field ... ) But at the high school level , where these athletes really start developing in their sport , track and field is BIG . Here 's an idea of how big : It is the one sport that ALL the high schools in the island will compete in , if nothing else . THE competition on the island at the high school level is ' Champs ' . This is the track and field competition where ALL the high schools from around the island will gather at the national stadium to compete . On the day Champs happens , many high schools have taken to the practice of making the school half day , because students would end up just skipping school to watch Champs anyways . TL;DR : Prestige + minimal expense required to train ( a pair of sneakers ) on an island where the majority is not very well - off results in most if not all of the island 's best athletes being funnelled into a single sport from an early age . Edit : Kids are introduced to track and field sprinting from a very early age . Most schools , as early as the Kindergarten level , will just make the kids sprint down a track for the entirety of Physical Education class . They will also have internal annual track and field meets where all kids must compete in . Second edit for typos</td>\n",
       "      <td>0</td>\n",
       "    </tr>\n",
       "  </tbody>\n",
       "</table>\n",
       "</div>"
      ],
      "text/plain": [
       "       question_id  \\\n",
       "28148         7037   \n",
       "41039        10310   \n",
       "51456        12977   \n",
       "29721         7430   \n",
       "60715        15292   \n",
       "\n",
       "                                                                                                                                                                                                                                                                                                                                                                                                                                                                                                                                                                                                                                                                                                                                                                                                                                                                                                                                                                                                                                                                                                                                                                                                                                                                                                                                                                                                                                                                                                                                                                                                                                                                                                                                                                                                                                                                                                                                                                                                                                                                                                                                                                                                                                                                                                                                                                                                                                                                  text  \\\n",
       "28148                                                                                                                                                                                                                                                                                                                                                                                                                                                                                                                                                                                                                                                                                                                                                                                                                                                                                                                                                                                                                                                                                                                                                                                                                                                                                                                                                                                                                                                                                                                                                                    I'm inclined to think that Maybe you can find that Eggs shrink as they develop . Even if they 're not fertile they still shrink as water slowly evaporates . Bird eggs have both a leathery shell ( mostly collagen ) and a hard shell ( mineralized with chalk ) . The leathery shell membrane peels back from the chalky outer shell , and that 's what makes the bubble . Technically it 's called the air cell . By the time a chick is ready to hatch , it 's absorbing oxygen through an umbilicus ( like mammal babies ) that attaches to blood vessels on the inside of the shell . For it to hatch it has to switch to using its lungs , and stop that umbilical blood flow . So it breaks the air cell ( which has gotten large by this point ) and breathes that air ( also through the outer shell ) . Once it has the strength to hatch , the chick breaks the outer shell too .   \n",
       "41039                                                                                                                                                                                                                                                                                                                                                                                                                                                                                                                                                                                                                                                                                                                                                                                                                                                                                                                                                                                                                                                                                                                                                                                                                                                                                                                                                                                                                                                                                                                                                                                                                                                                                                                                                                                                                                                                                                                                              Hmmm, I think that I'd like to suggest that 1 . People think insects are gross , and we do n't want to eat things that we think are gross . 2 . A lot of people do n't like seeing the fact that their food is an animal . Eating things with the head still on it , or eating things that are recognizably body parts , tends to turn people off . Because bugs are so small , it 's hard to make food out of them without just eating the whole thing and recognizing that you 're sticking a bug in your mouth .   \n",
       "51456                                                                                                                                                                                                                                                                                                                                                                                                                                                                                                                                                                                                                                                                                                                                                                                                                                                                                                                                                                                                                                                                                                                                                                                                              I find that I'd like to suggest that It's important to note that the number of visitors to a website does not necessarily correspond to the number of posts that are made on the site. A visitor is someone who simply visits the website, while a post is a piece of content that is created and shared by a user on the site. Reddit is a very popular website, with over 4 billion visitors per year. This means that a lot of people are visiting the site and looking at the content that is shared there. However, not all of these visitors are necessarily creating new posts or contributing to the site in other ways. Additionally, it's worth noting that not all posts on Reddit are created equal. Some posts are more popular and receive more attention from users, while others may not be as widely viewed or discussed. This is true of any website or social media platform, where some content tends to be more popular than others. So to sum it up, the number of visitors to a website like Reddit does not necessarily have anything to do with the number of posts that are made on the site. Different posts can receive different levels of attention and engagement, regardless of the overall popularity of the site.   \n",
       "29721                                                                                                                                                                                                                                                                                                                                                                                                                                                                                                                                                                                                                                                                                                                                                                                                                                                                                                                                                                                                                                                                                                                                                                                                                                                                                                                                                                                                                                                                                                                                                                                                                                                                                                                                                                                                                                                                                                                                                                                                                                                                                                                                                                                                                                                            Maybe you can find that In my humble opinion, It should n't be any slower than swiping , but I believe your still working out some kinks in the US . You have n't had them for very long , have you ?   \n",
       "60715  Based on my understanding, Hope this helps:  I ca n't speak for genetics , but I am certain that one factor is the track - and - field centered culture . Take the US for example . A kid who discovers that he is a little stronger and faster than the other kids in playground , may decide that sports is his calling . But which sport ? So many choices ... He has football , soccer , swimming , baseball , lacrosse ... you get the idea . More than likely he is going to settle on one of the more popular sports such as football , because of the prestige and money ( when was the last time ESPN paid attention to college track and field the way they pay attention to football ? ) In Jamaica , there is n't much infrastructure for many sports . Pretty much the only popular sports are ones that have minimal infrastructure . There is cricket , which was a popular sport since the days of British rule , soccer , because you just need a ball and a field , and track and field . ( Trivia : Usain Bolt was going to focus on cricket in high school , before his coach realized that he was pretty quick on his feet and should also look into track and field ... ) But at the high school level , where these athletes really start developing in their sport , track and field is BIG . Here 's an idea of how big : It is the one sport that ALL the high schools in the island will compete in , if nothing else . THE competition on the island at the high school level is ' Champs ' . This is the track and field competition where ALL the high schools from around the island will gather at the national stadium to compete . On the day Champs happens , many high schools have taken to the practice of making the school half day , because students would end up just skipping school to watch Champs anyways . TL;DR : Prestige + minimal expense required to train ( a pair of sneakers ) on an island where the majority is not very well - off results in most if not all of the island 's best athletes being funnelled into a single sport from an early age . Edit : Kids are introduced to track and field sprinting from a very early age . Most schools , as early as the Kindergarten level , will just make the kids sprint down a track for the entirety of Physical Education class . They will also have internal annual track and field meets where all kids must compete in . Second edit for typos   \n",
       "\n",
       "       label  \n",
       "28148      0  \n",
       "41039      0  \n",
       "51456      1  \n",
       "29721      0  \n",
       "60715      0  "
      ]
     },
     "execution_count": 45,
     "metadata": {},
     "output_type": "execute_result"
    }
   ],
   "source": [
    "aug_dev_df.head()"
   ]
  },
  {
   "cell_type": "code",
   "execution_count": 46,
   "metadata": {},
   "outputs": [],
   "source": [
    "aug_dev_df.to_csv(\"all_aug_dev.csv\")"
   ]
  },
  {
   "cell_type": "code",
   "execution_count": 13,
   "metadata": {},
   "outputs": [],
   "source": [
    "with open(\"all_train.csv\", \"w\") as csv_file:\n",
    "    csv_file.write(train_df.to_csv(index=False))\n",
    "with open(\"all_dev.csv\", \"w\") as csv_file:\n",
    "    csv_file.write(dev_df.to_csv(index=False))"
   ]
  },
  {
   "cell_type": "code",
   "execution_count": 14,
   "metadata": {},
   "outputs": [
    {
     "name": "stdout",
     "output_type": "stream",
     "text": [
      "Downloading and preparing dataset csv/default to /home/hyfrankl/.cache/huggingface/datasets/csv/default-601c25cd4de379c1/0.0.0/6954658bab30a358235fa864b05cf819af0e179325c740e4bc853bcc7ec513e1...\n"
     ]
    },
    {
     "data": {
      "application/vnd.jupyter.widget-view+json": {
       "model_id": "c8f81c1bea0249a1bf3533115e294ec4",
       "version_major": 2,
       "version_minor": 0
      },
      "text/plain": [
       "Downloading data files:   0%|          | 0/2 [00:00<?, ?it/s]"
      ]
     },
     "metadata": {},
     "output_type": "display_data"
    },
    {
     "data": {
      "application/vnd.jupyter.widget-view+json": {
       "model_id": "9d83d1423e6c42e090cc0ba8e377ce01",
       "version_major": 2,
       "version_minor": 0
      },
      "text/plain": [
       "Extracting data files:   0%|          | 0/2 [00:00<?, ?it/s]"
      ]
     },
     "metadata": {},
     "output_type": "display_data"
    },
    {
     "data": {
      "application/vnd.jupyter.widget-view+json": {
       "model_id": "",
       "version_major": 2,
       "version_minor": 0
      },
      "text/plain": [
       "Generating train split: 0 examples [00:00, ? examples/s]"
      ]
     },
     "metadata": {},
     "output_type": "display_data"
    },
    {
     "data": {
      "application/vnd.jupyter.widget-view+json": {
       "model_id": "",
       "version_major": 2,
       "version_minor": 0
      },
      "text/plain": [
       "Generating dev split: 0 examples [00:00, ? examples/s]"
      ]
     },
     "metadata": {},
     "output_type": "display_data"
    },
    {
     "name": "stdout",
     "output_type": "stream",
     "text": [
      "Dataset csv downloaded and prepared to /home/hyfrankl/.cache/huggingface/datasets/csv/default-601c25cd4de379c1/0.0.0/6954658bab30a358235fa864b05cf819af0e179325c740e4bc853bcc7ec513e1. Subsequent calls will reuse this data.\n"
     ]
    },
    {
     "data": {
      "application/vnd.jupyter.widget-view+json": {
       "model_id": "5a84a9c3af114068919f4f899d51006d",
       "version_major": 2,
       "version_minor": 0
      },
      "text/plain": [
       "  0%|          | 0/2 [00:00<?, ?it/s]"
      ]
     },
     "metadata": {},
     "output_type": "display_data"
    },
    {
     "data": {
      "text/plain": [
       "DatasetDict({\n",
       "    train: Dataset({\n",
       "        features: ['text', 'label'],\n",
       "        num_rows: 68344\n",
       "    })\n",
       "    dev: Dataset({\n",
       "        features: ['text', 'label'],\n",
       "        num_rows: 17087\n",
       "    })\n",
       "})"
      ]
     },
     "execution_count": 14,
     "metadata": {},
     "output_type": "execute_result"
    }
   ],
   "source": [
    "all_dataset = load_dataset('csv', data_files={'train': 'all_train.csv', 'dev': 'all_dev.csv'})\n",
    "all_dataset = all_dataset.remove_columns([\"question_id\"])\n",
    "all_dataset"
   ]
  },
  {
   "cell_type": "code",
   "execution_count": 47,
   "metadata": {},
   "outputs": [
    {
     "name": "stdout",
     "output_type": "stream",
     "text": [
      "Downloading and preparing dataset csv/default to /home/hyfrankl/.cache/huggingface/datasets/csv/default-f848414289ed8a10/0.0.0/6954658bab30a358235fa864b05cf819af0e179325c740e4bc853bcc7ec513e1...\n"
     ]
    },
    {
     "data": {
      "application/vnd.jupyter.widget-view+json": {
       "model_id": "431009ff759140bd9952b005b7203559",
       "version_major": 2,
       "version_minor": 0
      },
      "text/plain": [
       "Downloading data files:   0%|          | 0/1 [00:00<?, ?it/s]"
      ]
     },
     "metadata": {},
     "output_type": "display_data"
    },
    {
     "data": {
      "application/vnd.jupyter.widget-view+json": {
       "model_id": "989690cc42a744a4b8cb16031465aa38",
       "version_major": 2,
       "version_minor": 0
      },
      "text/plain": [
       "Extracting data files:   0%|          | 0/1 [00:00<?, ?it/s]"
      ]
     },
     "metadata": {},
     "output_type": "display_data"
    },
    {
     "data": {
      "application/vnd.jupyter.widget-view+json": {
       "model_id": "",
       "version_major": 2,
       "version_minor": 0
      },
      "text/plain": [
       "Generating train split: 0 examples [00:00, ? examples/s]"
      ]
     },
     "metadata": {},
     "output_type": "display_data"
    },
    {
     "name": "stdout",
     "output_type": "stream",
     "text": [
      "Dataset csv downloaded and prepared to /home/hyfrankl/.cache/huggingface/datasets/csv/default-f848414289ed8a10/0.0.0/6954658bab30a358235fa864b05cf819af0e179325c740e4bc853bcc7ec513e1. Subsequent calls will reuse this data.\n"
     ]
    },
    {
     "data": {
      "application/vnd.jupyter.widget-view+json": {
       "model_id": "3e6d7b7c752f4d29b9153515cf465f79",
       "version_major": 2,
       "version_minor": 0
      },
      "text/plain": [
       "  0%|          | 0/1 [00:00<?, ?it/s]"
      ]
     },
     "metadata": {},
     "output_type": "display_data"
    },
    {
     "data": {
      "text/plain": [
       "DatasetDict({\n",
       "    train: Dataset({\n",
       "        features: ['Unnamed: 0', 'text', 'label'],\n",
       "        num_rows: 17087\n",
       "    })\n",
       "})"
      ]
     },
     "execution_count": 47,
     "metadata": {},
     "output_type": "execute_result"
    }
   ],
   "source": [
    "aug_dataset = load_dataset('csv', data_files={'train':\"all_aug_dev.csv\"})\n",
    "aug_dataset = aug_dataset.remove_columns([\"question_id\"])\n",
    "aug_dataset"
   ]
  },
  {
   "cell_type": "markdown",
   "metadata": {},
   "source": [
    "# Dummy classifiers"
   ]
  },
  {
   "cell_type": "code",
   "execution_count": 16,
   "metadata": {},
   "outputs": [
    {
     "name": "stderr",
     "output_type": "stream",
     "text": [
      "/sw/pkgs/arc/python3.9-anaconda/2021.11/lib/python3.9/site-packages/sklearn/metrics/_classification.py:1248: UndefinedMetricWarning: Precision and F-score are ill-defined and being set to 0.0 due to no predicted samples. Use `zero_division` parameter to control this behavior.\n",
      "  _warn_prf(average, modifier, msg_start, len(result))\n"
     ]
    },
    {
     "data": {
      "text/plain": [
       "(0.0, 0.0, 0.0, None)"
      ]
     },
     "execution_count": 16,
     "metadata": {},
     "output_type": "execute_result"
    }
   ],
   "source": [
    "mf_dummy_clf = DummyClassifier(strategy=\"most_frequent\")\n",
    "mf_dummy_clf.fit(train_df.text, train_df.label)\n",
    "mf_dummy_test_preds = mf_dummy_clf.predict(dev_df.text)\n",
    "precision_recall_fscore_support(dev_df.label, mf_dummy_test_preds, average='binary')"
   ]
  },
  {
   "cell_type": "code",
   "execution_count": 17,
   "metadata": {},
   "outputs": [
    {
     "data": {
      "text/plain": [
       "(0.32088192419825073, 0.33195098963242226, 0.3263226165107014, None)"
      ]
     },
     "execution_count": 17,
     "metadata": {},
     "output_type": "execute_result"
    }
   ],
   "source": [
    "random_dummy_clf = DummyClassifier(strategy=\"stratified\")\n",
    "random_dummy_clf.fit(train_df.text, train_df.label)\n",
    "random_dummy_test_preds = random_dummy_clf.predict(dev_df.text)\n",
    "precision_recall_fscore_support(dev_df.label, random_dummy_test_preds, average='binary')"
   ]
  },
  {
   "cell_type": "code",
   "execution_count": 18,
   "metadata": {},
   "outputs": [
    {
     "data": {
      "text/plain": [
       "(0.31224640354112876, 0.3191328934967012, 0.3156520928498182, None)"
      ]
     },
     "execution_count": 18,
     "metadata": {},
     "output_type": "execute_result"
    }
   ],
   "source": [
    "random_dummy_aug_preds = random_dummy_clf.predict(aug_dev_df.text)\n",
    "precision_recall_fscore_support(aug_dev_df.label, random_dummy_aug_preds, average='binary')"
   ]
  },
  {
   "cell_type": "code",
   "execution_count": 19,
   "metadata": {},
   "outputs": [
    {
     "data": {
      "text/plain": [
       "0.5078104973624681"
      ]
     },
     "execution_count": 19,
     "metadata": {},
     "output_type": "execute_result"
    }
   ],
   "source": [
    "fpr_2, tpr_2, threshold = roc_curve(np.array(dev_df.label), random_dummy_test_preds)\n",
    "auc(fpr_2, tpr_2)"
   ]
  },
  {
   "cell_type": "code",
   "execution_count": 48,
   "metadata": {},
   "outputs": [
    {
     "data": {
      "text/plain": [
       "0.5013165740612008"
      ]
     },
     "execution_count": 48,
     "metadata": {},
     "output_type": "execute_result"
    }
   ],
   "source": [
    "fpr_2_aug, tpr_2_aug, threshold = roc_curve(np.array(aug_dev_df.label), random_dummy_aug_preds)\n",
    "auc(fpr_2_aug, tpr_2_aug)"
   ]
  },
  {
   "cell_type": "markdown",
   "metadata": {},
   "source": [
    "# Standard sklearn classifier(s)"
   ]
  },
  {
   "cell_type": "code",
   "execution_count": 21,
   "metadata": {},
   "outputs": [
    {
     "data": {
      "text/plain": [
       "(0.9534516765285996, 0.9112158341187558, 0.9318554216867471, None)"
      ]
     },
     "execution_count": 21,
     "metadata": {},
     "output_type": "execute_result"
    }
   ],
   "source": [
    "# Convert text to features using a simple tf-idf\n",
    "# min_df = is the minimum occurrences for a word to a feature\n",
    "vectorizer = TfidfVectorizer(min_df=10)\n",
    "X_train = vectorizer.fit_transform(train_df.text.values.astype('U'))\n",
    "\n",
    "# Train a Logisitic Regression classifier\n",
    "clf = LogisticRegression()\n",
    "clf.fit(X_train, train_df.label)\n",
    "\n",
    "# Test the classifier by converting test data to features\n",
    "X_test = vectorizer.transform(dev_df.text.values.astype('U'))\n",
    "y_pred = clf.predict(X_test)\n",
    "y_true = dev_df.label\n",
    "\n",
    "# We'll using binary F1 to test whether we can detect sarcastic comments\n",
    "precision_recall_fscore_support(y_true, y_pred, average='binary')\n"
   ]
  },
  {
   "cell_type": "code",
   "execution_count": 22,
   "metadata": {},
   "outputs": [
    {
     "data": {
      "text/html": [
       "<div>\n",
       "<style scoped>\n",
       "    .dataframe tbody tr th:only-of-type {\n",
       "        vertical-align: middle;\n",
       "    }\n",
       "\n",
       "    .dataframe tbody tr th {\n",
       "        vertical-align: top;\n",
       "    }\n",
       "\n",
       "    .dataframe thead th {\n",
       "        text-align: right;\n",
       "    }\n",
       "</style>\n",
       "<table border=\"1\" class=\"dataframe\">\n",
       "  <thead>\n",
       "    <tr style=\"text-align: right;\">\n",
       "      <th></th>\n",
       "      <th>text</th>\n",
       "      <th>label</th>\n",
       "      <th>predict</th>\n",
       "    </tr>\n",
       "  </thead>\n",
       "  <tbody>\n",
       "    <tr>\n",
       "      <th>72043</th>\n",
       "      <td>YouTube is a video sharing platform that is owned by Google. Google is a multinational technology company that specializes in internet-related services and products, which include online advertising technologies, search engine, cloud computing, software, and hardware. Google was founded in 1998 by Larry Page and Sergey Brin while they were students at Stanford University. It has since grown into one of the largest and most influential companies in the tech industry.</td>\n",
       "      <td>1</td>\n",
       "      <td>0</td>\n",
       "    </tr>\n",
       "    <tr>\n",
       "      <th>71171</th>\n",
       "      <td>New Hampshire is a state in the northeastern region of the United States. It is divided into 10 counties, each of which is further divided into towns. As of 2021, there are a total of 221 towns in New Hampshire.</td>\n",
       "      <td>1</td>\n",
       "      <td>0</td>\n",
       "    </tr>\n",
       "    <tr>\n",
       "      <th>16446</th>\n",
       "      <td>MTV had lot of success with the original Real World , and began switching their formatting over to cheap , easy to produce , and popular reality television throughout the nineties . When online video became popular , it quickly took over the distribution of music videos , and signaled the end of music television</td>\n",
       "      <td>0</td>\n",
       "      <td>1</td>\n",
       "    </tr>\n",
       "    <tr>\n",
       "      <th>57007</th>\n",
       "      <td>The transistors in every computer chip generate heat when they are in use . When the chips in your phone are processing data they are drawing the electricity in your phones battery and using it to switch the transistors , and heat is a byproduct . The more the chip works the more heat is generated .</td>\n",
       "      <td>0</td>\n",
       "      <td>1</td>\n",
       "    </tr>\n",
       "    <tr>\n",
       "      <th>72549</th>\n",
       "      <td>Before the United States, Alaska was controlled by Russia. Russia established a presence in Alaska in the late 18th century and officially claimed the territory as Russian America in 1867. The United States purchased Alaska from Russia in 1867, in a transaction known as the \"Alaska Purchase.\" The United States has controlled Alaska since that time.</td>\n",
       "      <td>1</td>\n",
       "      <td>0</td>\n",
       "    </tr>\n",
       "    <tr>\n",
       "      <th>...</th>\n",
       "      <td>...</td>\n",
       "      <td>...</td>\n",
       "      <td>...</td>\n",
       "    </tr>\n",
       "    <tr>\n",
       "      <th>57524</th>\n",
       "      <td>Eating a whole pint of ice cream in one sitting is not necessarily worse than eating it over the course of the day. It really depends on your overall diet and how much ice cream you normally eat. If you rarely eat ice cream and only eat a small amount at a time, then eating a whole pint in one sitting may not be a problem. However, if you eat a lot of ice cream or have a diet that is high in sugar and fat, then eating a whole pint in one sitting could be unhealthy. It's important to remember that it's okay to treat yourself and have things like ice cream in moderation. It's when we eat large amounts of unhealthy foods on a regular basis that it can become a problem for our health. It's important to try to eat a balanced diet that includes a variety of healthy foods, and to not eat too much of any one food.</td>\n",
       "      <td>1</td>\n",
       "      <td>0</td>\n",
       "    </tr>\n",
       "    <tr>\n",
       "      <th>55924</th>\n",
       "      <td>When you immerse your body in 81 degree Fahrenheit water, your body loses heat faster than it does when you are in 81 degree Fahrenheit air. This is because water is a better conductor of heat than air. When you are in the water, the heat from your body is conducted away by the water and your body cools down more quickly. When you are in the air, the heat from your body is not conducted away as efficiently and so you do not lose heat as quickly. That's why 81 degree Fahrenheit water feels colder than 81 degree Fahrenheit air. Does that make sense?</td>\n",
       "      <td>1</td>\n",
       "      <td>0</td>\n",
       "    </tr>\n",
       "    <tr>\n",
       "      <th>78542</th>\n",
       "      <td>FHA (Federal Housing Administration) mortgages are a type of home loan that is insured by the Federal Housing Administration, a government agency. FHA loans are often attractive to first-time homebuyers and those with less-than-perfect credit, because they have more lenient credit and income requirements than conventional mortgages.Private mortgage insurance (PMI) is a type of insurance that is typically required by lenders when a borrower makes a down payment of less than 20% of the purchase price of a home. PMI protects the lender in the event that the borrower defaults on the mortgage.FHA loans do require the borrower to pay for mortgage insurance, but this insurance is different from PMI. FHA mortgage insurance is called mortgage insurance premium (MIP) and is required for all FHA loans. MIP is similar to PMI in that it protects the lender in the event of default, but it is funded differently and is managed by the Federal Housing Administration rather than a private insurance company.So, while FHA loans do require the borrower to pay for mortgage insurance, it is not the same as PMI. FHA loans do not require PMI, but some conventional mortgages do. It is important to understand the terms of your mortgage and the type of insurance that is required in order to be prepared for the costs of homeownership.</td>\n",
       "      <td>1</td>\n",
       "      <td>0</td>\n",
       "    </tr>\n",
       "    <tr>\n",
       "      <th>69018</th>\n",
       "      <td>The Medicare Severity Diagnosis Related Groups (MS-DRGs) system went into effect on October 1, 2007. The MS-DRGs are a classification system used by the Centers for Medicare and Medicaid Services (CMS) to determine the payment amount for inpatient hospital stays covered by Medicare. The MS-DRGs are based on the patient's diagnosis, procedure, age, sex, and discharge status, and are used to adjust payments to hospitals for the relative complexity and resources required to treat patients. The MS-DRGs are updated each year to reflect changes in medical practice and technology.</td>\n",
       "      <td>1</td>\n",
       "      <td>0</td>\n",
       "    </tr>\n",
       "    <tr>\n",
       "      <th>69117</th>\n",
       "      <td>Apple Computer, now known as Apple Inc., was founded on April 1, 1976 by Steve Jobs, Steve Wozniak, and Ronald Wayne. It started as a personal computer company and has since expanded to design and develop a wide range of consumer electronics, computer software, and online services.</td>\n",
       "      <td>1</td>\n",
       "      <td>0</td>\n",
       "    </tr>\n",
       "  </tbody>\n",
       "</table>\n",
       "<p>707 rows × 3 columns</p>\n",
       "</div>"
      ],
      "text/plain": [
       "                                                                                                                                                                                                                                                                                                                                                                                                                                                                                                                                                                                                                                                                                                                                                                                                                                                                                                                                                                                                                                                                                                                                                                                                                                                                                                                                                                                 text  \\\n",
       "72043                                                                                                                                                                                                                                                                                                                                                                                                                                                                                                                                                                                                                                                                                                                                                                                                                                                                                          YouTube is a video sharing platform that is owned by Google. Google is a multinational technology company that specializes in internet-related services and products, which include online advertising technologies, search engine, cloud computing, software, and hardware. Google was founded in 1998 by Larry Page and Sergey Brin while they were students at Stanford University. It has since grown into one of the largest and most influential companies in the tech industry.   \n",
       "71171                                                                                                                                                                                                                                                                                                                                                                                                                                                                                                                                                                                                                                                                                                                                                                                                                                                                                                                                                                                                                                                                                                                                                             New Hampshire is a state in the northeastern region of the United States. It is divided into 10 counties, each of which is further divided into towns. As of 2021, there are a total of 221 towns in New Hampshire.   \n",
       "16446                                                                                                                                                                                                                                                                                                                                                                                                                                                                                                                                                                                                                                                                                                                                                                                                                                                                                                                                                                                                                                                       MTV had lot of success with the original Real World , and began switching their formatting over to cheap , easy to produce , and popular reality television throughout the nineties . When online video became popular , it quickly took over the distribution of music videos , and signaled the end of music television   \n",
       "57007                                                                                                                                                                                                                                                                                                                                                                                                                                                                                                                                                                                                                                                                                                                                                                                                                                                                                                                                                                                                                                                                    The transistors in every computer chip generate heat when they are in use . When the chips in your phone are processing data they are drawing the electricity in your phones battery and using it to switch the transistors , and heat is a byproduct . The more the chip works the more heat is generated .   \n",
       "72549                                                                                                                                                                                                                                                                                                                                                                                                                                                                                                                                                                                                                                                                                                                                                                                                                                                                                                                                                                                                                  Before the United States, Alaska was controlled by Russia. Russia established a presence in Alaska in the late 18th century and officially claimed the territory as Russian America in 1867. The United States purchased Alaska from Russia in 1867, in a transaction known as the \"Alaska Purchase.\" The United States has controlled Alaska since that time.   \n",
       "...                                                                                                                                                                                                                                                                                                                                                                                                                                                                                                                                                                                                                                                                                                                                                                                                                                                                                                                                                                                                                                                                                                                                                                                                                                                                                                                                                                               ...   \n",
       "57524                                                                                                                                                                                                                                                                                                                                                                                                                                                                                                                               Eating a whole pint of ice cream in one sitting is not necessarily worse than eating it over the course of the day. It really depends on your overall diet and how much ice cream you normally eat. If you rarely eat ice cream and only eat a small amount at a time, then eating a whole pint in one sitting may not be a problem. However, if you eat a lot of ice cream or have a diet that is high in sugar and fat, then eating a whole pint in one sitting could be unhealthy. It's important to remember that it's okay to treat yourself and have things like ice cream in moderation. It's when we eat large amounts of unhealthy foods on a regular basis that it can become a problem for our health. It's important to try to eat a balanced diet that includes a variety of healthy foods, and to not eat too much of any one food.   \n",
       "55924                                                                                                                                                                                                                                                                                                                                                                                                                                                                                                                                                                                                                                                                                                                                                                                                       When you immerse your body in 81 degree Fahrenheit water, your body loses heat faster than it does when you are in 81 degree Fahrenheit air. This is because water is a better conductor of heat than air. When you are in the water, the heat from your body is conducted away by the water and your body cools down more quickly. When you are in the air, the heat from your body is not conducted away as efficiently and so you do not lose heat as quickly. That's why 81 degree Fahrenheit water feels colder than 81 degree Fahrenheit air. Does that make sense?   \n",
       "78542  FHA (Federal Housing Administration) mortgages are a type of home loan that is insured by the Federal Housing Administration, a government agency. FHA loans are often attractive to first-time homebuyers and those with less-than-perfect credit, because they have more lenient credit and income requirements than conventional mortgages.Private mortgage insurance (PMI) is a type of insurance that is typically required by lenders when a borrower makes a down payment of less than 20% of the purchase price of a home. PMI protects the lender in the event that the borrower defaults on the mortgage.FHA loans do require the borrower to pay for mortgage insurance, but this insurance is different from PMI. FHA mortgage insurance is called mortgage insurance premium (MIP) and is required for all FHA loans. MIP is similar to PMI in that it protects the lender in the event of default, but it is funded differently and is managed by the Federal Housing Administration rather than a private insurance company.So, while FHA loans do require the borrower to pay for mortgage insurance, it is not the same as PMI. FHA loans do not require PMI, but some conventional mortgages do. It is important to understand the terms of your mortgage and the type of insurance that is required in order to be prepared for the costs of homeownership.   \n",
       "69018                                                                                                                                                                                                                                                                                                                                                                                                                                                                                                                                                                                                                                                                                                                                                                            The Medicare Severity Diagnosis Related Groups (MS-DRGs) system went into effect on October 1, 2007. The MS-DRGs are a classification system used by the Centers for Medicare and Medicaid Services (CMS) to determine the payment amount for inpatient hospital stays covered by Medicare. The MS-DRGs are based on the patient's diagnosis, procedure, age, sex, and discharge status, and are used to adjust payments to hospitals for the relative complexity and resources required to treat patients. The MS-DRGs are updated each year to reflect changes in medical practice and technology.   \n",
       "69117                                                                                                                                                                                                                                                                                                                                                                                                                                                                                                                                                                                                                                                                                                                                                                                                                                                                                                                                                                                                                                                                                      Apple Computer, now known as Apple Inc., was founded on April 1, 1976 by Steve Jobs, Steve Wozniak, and Ronald Wayne. It started as a personal computer company and has since expanded to design and develop a wide range of consumer electronics, computer software, and online services.   \n",
       "\n",
       "       label  predict  \n",
       "72043      1        0  \n",
       "71171      1        0  \n",
       "16446      0        1  \n",
       "57007      0        1  \n",
       "72549      1        0  \n",
       "...      ...      ...  \n",
       "57524      1        0  \n",
       "55924      1        0  \n",
       "78542      1        0  \n",
       "69018      1        0  \n",
       "69117      1        0  \n",
       "\n",
       "[707 rows x 3 columns]"
      ]
     },
     "execution_count": 22,
     "metadata": {},
     "output_type": "execute_result"
    }
   ],
   "source": [
    "pred_df = pd.DataFrame({'text': dev_df.text, 'label': dev_df.label, 'predict': y_pred})\n",
    "pd.set_option('display.max_colwidth', None)\n",
    "not_match_df = pred_df[pred_df.label != pred_df.predict]\n",
    "not_match_df"
   ]
  },
  {
   "cell_type": "code",
   "execution_count": 23,
   "metadata": {
    "scrolled": true
   },
   "outputs": [
    {
     "data": {
      "text/plain": [
       "0.9455926395173646"
      ]
     },
     "execution_count": 23,
     "metadata": {},
     "output_type": "execute_result"
    }
   ],
   "source": [
    "fpr_3, tpr_3, threshold = roc_curve(np.array(y_true), y_pred)\n",
    "auc(fpr_3, tpr_3)"
   ]
  },
  {
   "cell_type": "code",
   "execution_count": 49,
   "metadata": {},
   "outputs": [
    {
     "data": {
      "text/plain": [
       "0.9318991525435931"
      ]
     },
     "execution_count": 49,
     "metadata": {},
     "output_type": "execute_result"
    }
   ],
   "source": [
    "aug_X_test = vectorizer.transform(aug_dev_df.text.values.astype('U'))\n",
    "aug_y_pred = clf.predict(aug_X_test)\n",
    "aug_y_true = aug_dev_df.label\n",
    "\n",
    "# We'll using binary F1 to test whether we can detect sarcastic comments\n",
    "precision_recall_fscore_support(aug_y_true, aug_y_pred, average='binary')\n",
    "\n",
    "fpr_sk, tpr_sk, threshold = roc_curve(np.array(aug_y_true),aug_y_pred)\n",
    "auc(fpr_sk, tpr_sk)"
   ]
  },
  {
   "cell_type": "markdown",
   "metadata": {},
   "source": [
    "# Fancy Huggingface classifiers\n",
    "\n",
    "We'll use [MiniLM](https://huggingface.co/microsoft/MiniLM-L12-H384-uncased) which is a compressed version of a BERT-like model that is faster to train"
   ]
  },
  {
   "cell_type": "code",
   "execution_count": 25,
   "metadata": {},
   "outputs": [
    {
     "data": {
      "text/plain": [
       "True"
      ]
     },
     "execution_count": 25,
     "metadata": {},
     "output_type": "execute_result"
    }
   ],
   "source": [
    "torch.cuda.is_available()"
   ]
  },
  {
   "cell_type": "code",
   "execution_count": 26,
   "metadata": {},
   "outputs": [
    {
     "data": {
      "text/plain": [
       "1"
      ]
     },
     "execution_count": 26,
     "metadata": {},
     "output_type": "execute_result"
    }
   ],
   "source": [
    "# Verify there's at least one GPU sitting around (or not if you want to try CPU!)\n",
    "torch.cuda.device_count()"
   ]
  },
  {
   "cell_type": "code",
   "execution_count": 27,
   "metadata": {},
   "outputs": [
    {
     "data": {
      "text/plain": [
       "DatasetDict({\n",
       "    train: Dataset({\n",
       "        features: ['text', 'label'],\n",
       "        num_rows: 68344\n",
       "    })\n",
       "    dev: Dataset({\n",
       "        features: ['text', 'label'],\n",
       "        num_rows: 17087\n",
       "    })\n",
       "})"
      ]
     },
     "execution_count": 27,
     "metadata": {},
     "output_type": "execute_result"
    }
   ],
   "source": [
    "all_dataset"
   ]
  },
  {
   "cell_type": "markdown",
   "metadata": {},
   "source": [
    "### Prepare the text\n",
    "\n",
    "We need to tokenize the data. Each large language model (LLM) has its own tokenizer, so we will have to specify how the model expects the text to be turned into tokens. In huggingface, we'll specify a LLM using a string name, e.g., \"microsoft/MiniLM-L12-H384-uncased\" for MiniLM. You can see more details on different possible model on Huggingface's [model repo](https://huggingface.co/models)"
   ]
  },
  {
   "cell_type": "code",
   "execution_count": 28,
   "metadata": {},
   "outputs": [
    {
     "data": {
      "application/vnd.jupyter.widget-view+json": {
       "model_id": "",
       "version_major": 2,
       "version_minor": 0
      },
      "text/plain": [
       "Map:   0%|          | 0/68344 [00:00<?, ? examples/s]"
      ]
     },
     "metadata": {},
     "output_type": "display_data"
    },
    {
     "data": {
      "application/vnd.jupyter.widget-view+json": {
       "model_id": "",
       "version_major": 2,
       "version_minor": 0
      },
      "text/plain": [
       "Map:   0%|          | 0/17087 [00:00<?, ? examples/s]"
      ]
     },
     "metadata": {},
     "output_type": "display_data"
    }
   ],
   "source": [
    "tokenizer = AutoTokenizer.from_pretrained(\"microsoft/MiniLM-L12-H384-uncased\")\n",
    "def preprocess_function(examples):\n",
    "    return tokenizer(examples[\"text\"], truncation=True, max_length=512)\n",
    "\n",
    "tokenized_all = all_dataset.map(preprocess_function, batched=True)\n",
    "data_collator = DataCollatorWithPadding(tokenizer=tokenizer)"
   ]
  },
  {
   "cell_type": "markdown",
   "metadata": {},
   "source": [
    "### Train the model"
   ]
  },
  {
   "cell_type": "code",
   "execution_count": 29,
   "metadata": {},
   "outputs": [
    {
     "name": "stderr",
     "output_type": "stream",
     "text": [
      "Some weights of BertForSequenceClassification were not initialized from the model checkpoint at microsoft/MiniLM-L12-H384-uncased and are newly initialized: ['classifier.bias', 'classifier.weight']\n",
      "You should probably TRAIN this model on a down-stream task to be able to use it for predictions and inference.\n",
      "Some weights of BertForSequenceClassification were not initialized from the model checkpoint at microsoft/MiniLM-L12-H384-uncased and are newly initialized: ['classifier.bias', 'classifier.weight']\n",
      "You should probably TRAIN this model on a down-stream task to be able to use it for predictions and inference.\n",
      "/home/hyfrankl/.local/lib/python3.9/site-packages/transformers/optimization.py:391: FutureWarning: This implementation of AdamW is deprecated and will be removed in a future version. Use the PyTorch implementation torch.optim.AdamW instead, or set `no_deprecation_warning=True` to disable this warning\n",
      "  warnings.warn(\n",
      "You're using a BertTokenizerFast tokenizer. Please note that with a fast tokenizer, using the `__call__` method is faster than using a method to encode the text followed by a call to the `pad` method to get a padded encoding.\n"
     ]
    },
    {
     "data": {
      "text/html": [
       "\n",
       "    <div>\n",
       "      \n",
       "      <progress value='8543' max='8543' style='width:300px; height:20px; vertical-align: middle;'></progress>\n",
       "      [8543/8543 14:00, Epoch 1/1]\n",
       "    </div>\n",
       "    <table border=\"1\" class=\"dataframe\">\n",
       "  <thead>\n",
       " <tr style=\"text-align: left;\">\n",
       "      <th>Epoch</th>\n",
       "      <th>Training Loss</th>\n",
       "      <th>Validation Loss</th>\n",
       "    </tr>\n",
       "  </thead>\n",
       "  <tbody>\n",
       "    <tr>\n",
       "      <td>1</td>\n",
       "      <td>0.204000</td>\n",
       "      <td>0.210207</td>\n",
       "    </tr>\n",
       "  </tbody>\n",
       "</table><p>"
      ],
      "text/plain": [
       "<IPython.core.display.HTML object>"
      ]
     },
     "metadata": {},
     "output_type": "display_data"
    },
    {
     "data": {
      "text/plain": [
       "TrainOutput(global_step=8543, training_loss=0.2204715601945529, metrics={'train_runtime': 840.9734, 'train_samples_per_second': 81.268, 'train_steps_per_second': 10.158, 'total_flos': 3140747957532864.0, 'train_loss': 0.2204715601945529, 'epoch': 1.0})"
      ]
     },
     "execution_count": 29,
     "metadata": {},
     "output_type": "execute_result"
    }
   ],
   "source": [
    "# Huggingface will generate model checkpoints and these can\n",
    "# take up a lot of space, so be sure to set this directory somewhere where\n",
    "# you can check\n",
    "\n",
    "output_dir = '.'\n",
    "\n",
    "# This code block is used so we can have a deterministic training procedure\n",
    "# (i.e., get the same result each time)\n",
    "model_name = \"microsoft/MiniLM-L12-H384-uncased\"\n",
    "\n",
    "\n",
    "def model_init():\n",
    "    return AutoModelForSequenceClassification.from_pretrained(model_name, num_labels=2)\n",
    "\n",
    "\n",
    "training_args = TrainingArguments(\n",
    "    output_dir=output_dir,\n",
    "    overwrite_output_dir=True,\n",
    "    learning_rate=8e-5,\n",
    "    per_device_train_batch_size=8,\n",
    "    per_device_eval_batch_size=8,\n",
    "    num_train_epochs=1,\n",
    "    weight_decay=0.01,\n",
    "    do_eval=True,\n",
    "    seed=1234,\n",
    "    save_strategy='epoch',\n",
    "    evaluation_strategy='epoch',\n",
    "    logging_dir=output_dir + 'logs/',\n",
    "    label_smoothing_factor=0.1,\n",
    "    load_best_model_at_end=True,\n",
    ")\n",
    "\n",
    "trainer = Trainer(\n",
    "    model_init=model_init,\n",
    "    args=training_args,\n",
    "    train_dataset=tokenized_all[\"train\"],\n",
    "    eval_dataset=tokenized_all[\"dev\"],\n",
    "    tokenizer=tokenizer,\n",
    "    data_collator=data_collator,\n",
    ")\n",
    "\n",
    "trainer.train()\n"
   ]
  },
  {
   "cell_type": "code",
   "execution_count": 30,
   "metadata": {},
   "outputs": [
    {
     "data": {
      "text/html": [],
      "text/plain": [
       "<IPython.core.display.HTML object>"
      ]
     },
     "metadata": {},
     "output_type": "display_data"
    },
    {
     "data": {
      "text/plain": [
       "{'eval_loss': 0.21020738780498505,\n",
       " 'eval_runtime': 48.1923,\n",
       " 'eval_samples_per_second': 354.559,\n",
       " 'eval_steps_per_second': 44.322,\n",
       " 'epoch': 1.0}"
      ]
     },
     "execution_count": 30,
     "metadata": {},
     "output_type": "execute_result"
    }
   ],
   "source": [
    "trainer.evaluate()"
   ]
  },
  {
   "cell_type": "code",
   "execution_count": 31,
   "metadata": {},
   "outputs": [
    {
     "name": "stdout",
     "output_type": "stream",
     "text": [
      "(17087, 2) (17087,)\n"
     ]
    },
    {
     "data": {
      "text/plain": [
       "(0.9847696879643388, 0.9994344957587182, 0.9920478997099823, None)"
      ]
     },
     "execution_count": 31,
     "metadata": {},
     "output_type": "execute_result"
    }
   ],
   "source": [
    "dev_logits = trainer.predict(tokenized_all[\"dev\"])\n",
    "print(dev_logits.predictions.shape, dev_logits.label_ids.shape)\n",
    "dev_preds = np.argmax(dev_logits.predictions, axis=-1)\n",
    "precision_recall_fscore_support(dev_df.label, dev_preds, average='binary')"
   ]
  },
  {
   "cell_type": "code",
   "execution_count": null,
   "metadata": {},
   "outputs": [
    {
     "data": {
      "application/vnd.jupyter.widget-view+json": {
       "model_id": "",
       "version_major": 2,
       "version_minor": 0
      },
      "text/plain": [
       "Map:   0%|          | 0/17087 [00:00<?, ? examples/s]"
      ]
     },
     "metadata": {},
     "output_type": "display_data"
    },
    {
     "data": {
      "text/html": [
       "\n",
       "    <div>\n",
       "      \n",
       "      <progress value='1289' max='2136' style='width:300px; height:20px; vertical-align: middle;'></progress>\n",
       "      [1289/2136 00:34 < 00:22, 37.83 it/s]\n",
       "    </div>\n",
       "    "
      ],
      "text/plain": [
       "<IPython.core.display.HTML object>"
      ]
     },
     "metadata": {},
     "output_type": "display_data"
    }
   ],
   "source": [
    "tokenized_aug = aug_dataset.map(preprocess_function, batched=True)\n",
    "\n",
    "aug_dev_logits = trainer.predict(tokenized_aug[\"train\"])\n",
    "print(aug_dev_logits.predictions.shape, aug_dev_logits.label_ids.shape)\n",
    "aug_dev_preds = np.argmax(aug_dev_logits.predictions, axis=-1)\n",
    "fpr_aug, tpr_aug, threshold = roc_curve(np.array(aug_dev_df.label), aug_dev_preds)\n",
    "auc(fpr_aug, tpr_aug)"
   ]
  },
  {
   "cell_type": "code",
   "execution_count": 35,
   "metadata": {},
   "outputs": [
    {
     "data": {
      "text/plain": [
       "0.9962373633096766"
      ]
     },
     "execution_count": 35,
     "metadata": {},
     "output_type": "execute_result"
    }
   ],
   "source": [
    "fpr, tpr, threshold = roc_curve(np.array(dev_df.label), dev_preds)\n",
    "auc(fpr, tpr)"
   ]
  },
  {
   "cell_type": "code",
   "execution_count": 36,
   "metadata": {},
   "outputs": [],
   "source": [
    "import matplotlib.pyplot as plt\n",
    "import seaborn as sns"
   ]
  },
  {
   "cell_type": "code",
   "execution_count": 41,
   "metadata": {},
   "outputs": [
    {
     "data": {
      "image/png": "[encoded data removed]",
      "text/plain": [
       "<Figure size 576x396 with 1 Axes>"
      ]
     },
     "metadata": {},
     "output_type": "display_data"
    }
   ],
   "source": [
    "plt.style.use(\"seaborn\")\n",
    "plt.plot(fpr, tpr)\n",
    "plt.plot(fpr_aug, tpr_aug)\n",
    "plt.plot(fpr_3, tpr_3)\n",
    "plt.plot(fpr_2, tpr_2)\n",
    "plt.legend(['MiniLM', 'MiniLM-aug', 'TF-IDF LR', 'DummyClassifier'])\n",
    "plt.title(\"Model Performance on HC3\")\n",
    "plt.xlabel(\"FPR\")\n",
    "plt.ylabel(\"TPR\")\n",
    "# plt.xscale('log')\n",
    "# plt.yscale('log')\n",
    "plt.savefig(\"res\")"
   ]
  },
  {
   "cell_type": "code",
   "execution_count": null,
   "metadata": {},
   "outputs": [],
   "source": []
  }
 ],
 "metadata": {
  "kernelspec": {
   "display_name": "Python 3 (ipykernel)",
   "language": "python",
   "name": "python3"
  },
  "language_info": {
   "codemirror_mode": {
    "name": "ipython",
    "version": 3
   },
   "file_extension": ".py",
   "mimetype": "text/x-python",
   "name": "python",
   "nbconvert_exporter": "python",
   "pygments_lexer": "ipython3",
   "version": "3.9.7"
  }
 },
 "nbformat": 4,
 "nbformat_minor": 4
}
