{
 "cells": [
  {
   "cell_type": "code",
   "execution_count": 1,
   "metadata": {},
   "outputs": [
    {
     "name": "stderr",
     "output_type": "stream",
     "text": [
      "d:\\Miniconda\\envs\\hugging\\lib\\site-packages\\tqdm\\auto.py:21: TqdmWarning: IProgress not found. Please update jupyter and ipywidgets. See https://ipywidgets.readthedocs.io/en/stable/user_install.html\n",
      "  from .autonotebook import tqdm as notebook_tqdm\n"
     ]
    }
   ],
   "source": [
    "import csv\n",
    "import json\n",
    "\n",
    "import numpy as np\n",
    "import pandas as pd\n",
    "from datasets import load_dataset\n",
    "\n",
    "from sklearn.model_selection import train_test_split\n",
    "from sklearn.dummy import DummyClassifier\n",
    "from sklearn.feature_extraction.text import TfidfVectorizer\n",
    "from sklearn.linear_model import LogisticRegression\n",
    "from sklearn.metrics import precision_recall_fscore_support, roc_curve, auc\n",
    "\n",
    "from transformers import Trainer, TrainingArguments\n",
    "from transformers import DataCollatorWithPadding, AutoTokenizer, AutoModelForSequenceClassification\n",
    "\n",
    "import torch\n",
    "\n",
    "# from tqdm import tqdm\n",
    "# import os\n",
    "# import evaluate\n",
    "# from datasets import load_dataset\n",
    "# from collections import Counter, defaultdict\n",
    "\n",
    "# from sklearn.ensemble import RandomForestClassifier, GradientBoostingClassifier\n"
   ]
  },
  {
   "cell_type": "code",
   "execution_count": 2,
   "metadata": {},
   "outputs": [
    {
     "name": "stderr",
     "output_type": "stream",
     "text": [
      "[nltk_data] Downloading package punkt to\n",
      "[nltk_data]     C:\\Users\\cyarq\\AppData\\Roaming\\nltk_data...\n",
      "[nltk_data]   Package punkt is already up-to-date!\n"
     ]
    }
   ],
   "source": [
    "from nltk import sent_tokenize\n",
    "import nltk\n",
    "nltk.download('punkt')\n",
    "with open(\"all.jsonl\", 'r') as jsonl_file:\n",
    "    jsonl_data = jsonl_file.read()\n",
    "    json_lines = [\n",
    "        json_line for json_line in jsonl_data.splitlines() if json_line.strip()]\n",
    "    jsons_objs = [json.loads(json_line) for json_line in json_lines]\n",
    "    jsons_objs_expand = []\n",
    "    for i, obj in enumerate(jsons_objs):\n",
    "        word_cnt = []\n",
    "        for human_answer in obj['human_answers']:\n",
    "            sentences = sent_tokenize(human_answer)\n",
    "            # split the response into 3 sentences\n",
    "            grouped_sentences = [\" \".join(sentences[i:i + 3]) for i in range(0, len(sentences), 3)]\n",
    "            for sent in grouped_sentences:\n",
    "                jsons_objs_expand.append(\n",
    "                    {'question_id': i, 'text': sent, 'label': 0})\n",
    "        for chatgpt_answer in obj['chatgpt_answers']:\n",
    "            sentences = sent_tokenize(chatgpt_answer)\n",
    "            grouped_sentences = [\" \".join(sentences[i:i + 3]) for i in range(0, len(sentences), 3)]\n",
    "            for sent in grouped_sentences:\n",
    "                jsons_objs_expand.append(\n",
    "                    {'question_id': i, 'text': sent, 'label': 1})"
   ]
  },
  {
   "cell_type": "code",
   "execution_count": 3,
   "metadata": {},
   "outputs": [],
   "source": [
    "with open(\"all_sent.csv\", \"w\") as csv_file:\n",
    "    writer = csv.writer(csv_file)\n",
    "    writer.writerow([key for key in jsons_objs_expand[0].keys()])\n",
    "    writer.writerows([json_obj.values() for json_obj in jsons_objs_expand])"
   ]
  },
  {
   "cell_type": "code",
   "execution_count": 4,
   "metadata": {},
   "outputs": [],
   "source": [
    "with open('id_to_question.csv', 'w') as f:\n",
    "    writer = csv.writer(f)\n",
    "    writer.writerow(['id', 'question'])\n",
    "    for i, obj in enumerate(jsons_objs):\n",
    "        writer.writerow([i, obj['question']])"
   ]
  },
  {
   "cell_type": "code",
   "execution_count": 5,
   "metadata": {
    "scrolled": true
   },
   "outputs": [
    {
     "data": {
      "text/html": [
       "<div>\n",
       "<style scoped>\n",
       "    .dataframe tbody tr th:only-of-type {\n",
       "        vertical-align: middle;\n",
       "    }\n",
       "\n",
       "    .dataframe tbody tr th {\n",
       "        vertical-align: top;\n",
       "    }\n",
       "\n",
       "    .dataframe thead th {\n",
       "        text-align: right;\n",
       "    }\n",
       "</style>\n",
       "<table border=\"1\" class=\"dataframe\">\n",
       "  <thead>\n",
       "    <tr style=\"text-align: right;\">\n",
       "      <th></th>\n",
       "      <th>question_id</th>\n",
       "      <th>text</th>\n",
       "      <th>label</th>\n",
       "    </tr>\n",
       "  </thead>\n",
       "  <tbody>\n",
       "    <tr>\n",
       "      <th>0</th>\n",
       "      <td>0</td>\n",
       "      <td>Basically there are many categories of \" Best ...</td>\n",
       "      <td>0</td>\n",
       "    </tr>\n",
       "    <tr>\n",
       "      <th>1</th>\n",
       "      <td>0</td>\n",
       "      <td>Same thing for best sellers . Also , IIRC the ...</td>\n",
       "      <td>0</td>\n",
       "    </tr>\n",
       "    <tr>\n",
       "      <th>2</th>\n",
       "      <td>0</td>\n",
       "      <td>I guess even if you do n't stay there for long...</td>\n",
       "      <td>0</td>\n",
       "    </tr>\n",
       "    <tr>\n",
       "      <th>3</th>\n",
       "      <td>0</td>\n",
       "      <td>If you 're hearing about it , it 's because it...</td>\n",
       "      <td>0</td>\n",
       "    </tr>\n",
       "    <tr>\n",
       "      <th>4</th>\n",
       "      <td>0</td>\n",
       "      <td>One reason is lots of catagories . However , h...</td>\n",
       "      <td>0</td>\n",
       "    </tr>\n",
       "  </tbody>\n",
       "</table>\n",
       "</div>"
      ],
      "text/plain": [
       "   question_id                                               text  label\n",
       "0            0  Basically there are many categories of \" Best ...      0\n",
       "1            0  Same thing for best sellers . Also , IIRC the ...      0\n",
       "2            0  I guess even if you do n't stay there for long...      0\n",
       "3            0  If you 're hearing about it , it 's because it...      0\n",
       "4            0  One reason is lots of catagories . However , h...      0"
      ]
     },
     "execution_count": 5,
     "metadata": {},
     "output_type": "execute_result"
    }
   ],
   "source": [
    "all_df = pd.read_csv(\"all_sent.csv\")\n",
    "all_df.dropna(inplace=True)\n",
    "all_df.head()"
   ]
  },
  {
   "cell_type": "code",
   "execution_count": 7,
   "metadata": {},
   "outputs": [
    {
     "data": {
      "text/html": [
       "<div>\n",
       "<style scoped>\n",
       "    .dataframe tbody tr th:only-of-type {\n",
       "        vertical-align: middle;\n",
       "    }\n",
       "\n",
       "    .dataframe tbody tr th {\n",
       "        vertical-align: top;\n",
       "    }\n",
       "\n",
       "    .dataframe thead th {\n",
       "        text-align: right;\n",
       "    }\n",
       "</style>\n",
       "<table border=\"1\" class=\"dataframe\">\n",
       "  <thead>\n",
       "    <tr style=\"text-align: right;\">\n",
       "      <th></th>\n",
       "      <th>count</th>\n",
       "      <th>mean</th>\n",
       "      <th>std</th>\n",
       "      <th>min</th>\n",
       "      <th>25%</th>\n",
       "      <th>50%</th>\n",
       "      <th>75%</th>\n",
       "      <th>max</th>\n",
       "    </tr>\n",
       "    <tr>\n",
       "      <th>label</th>\n",
       "      <th></th>\n",
       "      <th></th>\n",
       "      <th></th>\n",
       "      <th></th>\n",
       "      <th></th>\n",
       "      <th></th>\n",
       "      <th></th>\n",
       "      <th></th>\n",
       "    </tr>\n",
       "  </thead>\n",
       "  <tbody>\n",
       "    <tr>\n",
       "      <th>0</th>\n",
       "      <td>147274.0</td>\n",
       "      <td>53.218110</td>\n",
       "      <td>27.988068</td>\n",
       "      <td>1.0</td>\n",
       "      <td>34.0</td>\n",
       "      <td>51.0</td>\n",
       "      <td>69.0</td>\n",
       "      <td>457.0</td>\n",
       "    </tr>\n",
       "    <tr>\n",
       "      <th>1</th>\n",
       "      <td>72342.0</td>\n",
       "      <td>64.366841</td>\n",
       "      <td>30.838738</td>\n",
       "      <td>1.0</td>\n",
       "      <td>46.0</td>\n",
       "      <td>62.0</td>\n",
       "      <td>78.0</td>\n",
       "      <td>379.0</td>\n",
       "    </tr>\n",
       "  </tbody>\n",
       "</table>\n",
       "</div>"
      ],
      "text/plain": [
       "          count       mean        std  min   25%   50%   75%    max\n",
       "label                                                              \n",
       "0      147274.0  53.218110  27.988068  1.0  34.0  51.0  69.0  457.0\n",
       "1       72342.0  64.366841  30.838738  1.0  46.0  62.0  78.0  379.0"
      ]
     },
     "execution_count": 7,
     "metadata": {},
     "output_type": "execute_result"
    }
   ],
   "source": [
    "all_df['length'] = all_df['text'].apply(lambda x: len(x.split()))\n",
    "all_df['length'].groupby(all_df['label']).describe()"
   ]
  },
  {
   "cell_type": "code",
   "execution_count": 8,
   "metadata": {},
   "outputs": [
    {
     "data": {
      "text/plain": [
       "(array([3.620e+02, 1.904e+03, 3.121e+03, 3.853e+03, 3.637e+03, 6.084e+03,\n",
       "        7.270e+03, 9.793e+03, 9.707e+03, 6.952e+03, 5.823e+03, 3.558e+03,\n",
       "        2.698e+03, 1.723e+03, 1.499e+03, 9.120e+02, 8.530e+02, 6.490e+02,\n",
       "        4.000e+02, 3.930e+02, 2.490e+02, 2.080e+02, 1.280e+02, 1.410e+02,\n",
       "        9.400e+01, 8.500e+01, 5.200e+01, 4.600e+01, 3.900e+01, 2.300e+01,\n",
       "        2.500e+01, 1.600e+01, 9.000e+00, 7.000e+00, 6.000e+00, 4.000e+00,\n",
       "        8.000e+00, 1.000e+00, 2.000e+00, 1.000e+00, 2.000e+00, 1.000e+00,\n",
       "        0.000e+00, 1.000e+00, 1.000e+00, 1.000e+00, 0.000e+00, 0.000e+00,\n",
       "        0.000e+00, 1.000e+00]),\n",
       " array([  1.  ,   8.56,  16.12,  23.68,  31.24,  38.8 ,  46.36,  53.92,\n",
       "         61.48,  69.04,  76.6 ,  84.16,  91.72,  99.28, 106.84, 114.4 ,\n",
       "        121.96, 129.52, 137.08, 144.64, 152.2 , 159.76, 167.32, 174.88,\n",
       "        182.44, 190.  , 197.56, 205.12, 212.68, 220.24, 227.8 , 235.36,\n",
       "        242.92, 250.48, 258.04, 265.6 , 273.16, 280.72, 288.28, 295.84,\n",
       "        303.4 , 310.96, 318.52, 326.08, 333.64, 341.2 , 348.76, 356.32,\n",
       "        363.88, 371.44, 379.  ]),\n",
       " <BarContainer object of 50 artists>)"
      ]
     },
     "execution_count": 8,
     "metadata": {},
     "output_type": "execute_result"
    },
    {
     "data": {
      "image/png": "[encoded data removed]",
      "text/plain": [
       "<Figure size 640x480 with 1 Axes>"
      ]
     },
     "metadata": {},
     "output_type": "display_data"
    }
   ],
   "source": [
    "import matplotlib.pyplot as plt\n",
    "\n",
    "plt.hist(all_df[all_df['label'] == 0]['length'], bins=50, alpha=0.5, label='human')\n",
    "plt.hist(all_df[all_df['label'] == 1]['length'], bins=50, alpha=0.5, label='chatgpt')"
   ]
  },
  {
   "cell_type": "code",
   "execution_count": 9,
   "metadata": {
    "scrolled": true
   },
   "outputs": [
    {
     "data": {
      "text/plain": [
       "((175692, 4), (43924, 4))"
      ]
     },
     "execution_count": 9,
     "metadata": {},
     "output_type": "execute_result"
    }
   ],
   "source": [
    "\n",
    "train_df, dev_df = train_test_split(all_df, test_size=0.2, random_state=42)\n",
    "train_df.shape, dev_df.shape"
   ]
  },
  {
   "cell_type": "markdown",
   "metadata": {},
   "source": [
    "### Data Augumentation"
   ]
  },
  {
   "cell_type": "code",
   "execution_count": 10,
   "metadata": {},
   "outputs": [],
   "source": [
    "with open(\"all_train_sent.csv\", \"w\") as csv_file:\n",
    "    csv_file.write(train_df.to_csv(index=False))\n",
    "with open(\"all_dev_sent.csv\", \"w\") as csv_file:\n",
    "    csv_file.write(dev_df.to_csv(index=False))"
   ]
  },
  {
   "cell_type": "code",
   "execution_count": 11,
   "metadata": {},
   "outputs": [
    {
     "name": "stdout",
     "output_type": "stream",
     "text": [
      "Downloading and preparing dataset csv/default to C:/Users/cyarq/.cache/huggingface/datasets/csv/default-ce0cbae5942c0a29/0.0.0/6b34fb8fcf56f7c8ba51dc895bfa2bfbe43546f190a60fcf74bb5e8afdcc2317...\n"
     ]
    },
    {
     "name": "stderr",
     "output_type": "stream",
     "text": [
      "Downloading data files: 100%|██████████| 2/2 [00:00<?, ?it/s]\n",
      "Extracting data files: 100%|██████████| 2/2 [00:00<00:00, 399.97it/s]\n",
      "Generating train split: 0 examples [00:00, ? examples/s]d:\\Miniconda\\envs\\hugging\\lib\\site-packages\\datasets\\download\\streaming_download_manager.py:776: FutureWarning: the 'mangle_dupe_cols' keyword is deprecated and will be removed in a future version. Please take steps to stop the use of 'mangle_dupe_cols'\n",
      "  return pd.read_csv(xopen(filepath_or_buffer, \"rb\", use_auth_token=use_auth_token), **kwargs)\n",
      "Generating dev split: 0 examples [00:00, ? examples/s]               d:\\Miniconda\\envs\\hugging\\lib\\site-packages\\datasets\\download\\streaming_download_manager.py:776: FutureWarning: the 'mangle_dupe_cols' keyword is deprecated and will be removed in a future version. Please take steps to stop the use of 'mangle_dupe_cols'\n",
      "  return pd.read_csv(xopen(filepath_or_buffer, \"rb\", use_auth_token=use_auth_token), **kwargs)\n",
      "                                                                  \r"
     ]
    },
    {
     "name": "stdout",
     "output_type": "stream",
     "text": [
      "Dataset csv downloaded and prepared to C:/Users/cyarq/.cache/huggingface/datasets/csv/default-ce0cbae5942c0a29/0.0.0/6b34fb8fcf56f7c8ba51dc895bfa2bfbe43546f190a60fcf74bb5e8afdcc2317. Subsequent calls will reuse this data.\n"
     ]
    },
    {
     "name": "stderr",
     "output_type": "stream",
     "text": [
      "100%|██████████| 2/2 [00:00<00:00, 111.09it/s]\n"
     ]
    },
    {
     "data": {
      "text/plain": [
       "DatasetDict({\n",
       "    train: Dataset({\n",
       "        features: ['text', 'label', 'length'],\n",
       "        num_rows: 175692\n",
       "    })\n",
       "    dev: Dataset({\n",
       "        features: ['text', 'label', 'length'],\n",
       "        num_rows: 43924\n",
       "    })\n",
       "})"
      ]
     },
     "execution_count": 11,
     "metadata": {},
     "output_type": "execute_result"
    }
   ],
   "source": [
    "all_dataset = load_dataset('csv', data_files={'train': 'all_train_sent.csv', 'dev': 'all_dev_sent.csv'})\n",
    "all_dataset = all_dataset.remove_columns([\"question_id\"])\n",
    "all_dataset"
   ]
  },
  {
   "cell_type": "markdown",
   "metadata": {},
   "source": [
    "# Dummy classifiers"
   ]
  },
  {
   "cell_type": "code",
   "execution_count": 12,
   "metadata": {},
   "outputs": [
    {
     "name": "stderr",
     "output_type": "stream",
     "text": [
      "d:\\Miniconda\\envs\\hugging\\lib\\site-packages\\sklearn\\metrics\\_classification.py:1344: UndefinedMetricWarning: Precision and F-score are ill-defined and being set to 0.0 due to no predicted samples. Use `zero_division` parameter to control this behavior.\n",
      "  _warn_prf(average, modifier, msg_start, len(result))\n"
     ]
    },
    {
     "data": {
      "text/plain": [
       "(0.0, 0.0, 0.0, None)"
      ]
     },
     "execution_count": 12,
     "metadata": {},
     "output_type": "execute_result"
    }
   ],
   "source": [
    "mf_dummy_clf = DummyClassifier(strategy=\"most_frequent\")\n",
    "mf_dummy_clf.fit(train_df.text, train_df.label)\n",
    "mf_dummy_test_preds = mf_dummy_clf.predict(dev_df.text)\n",
    "precision_recall_fscore_support(dev_df.label, mf_dummy_test_preds, average='binary')"
   ]
  },
  {
   "cell_type": "code",
   "execution_count": 13,
   "metadata": {},
   "outputs": [
    {
     "data": {
      "text/plain": [
       "(0.3314356265861856, 0.3328970031002411, 0.3321647074998281, None)"
      ]
     },
     "execution_count": 13,
     "metadata": {},
     "output_type": "execute_result"
    }
   ],
   "source": [
    "random_dummy_clf = DummyClassifier(strategy=\"stratified\")\n",
    "random_dummy_clf.fit(train_df.text, train_df.label)\n",
    "random_dummy_test_preds = random_dummy_clf.predict(dev_df.text)\n",
    "precision_recall_fscore_support(dev_df.label, random_dummy_test_preds, average='binary')"
   ]
  },
  {
   "cell_type": "code",
   "execution_count": 15,
   "metadata": {},
   "outputs": [
    {
     "data": {
      "text/plain": [
       "0.5007339243798665"
      ]
     },
     "execution_count": 15,
     "metadata": {},
     "output_type": "execute_result"
    }
   ],
   "source": [
    "fpr_2, tpr_2, threshold = roc_curve(np.array(dev_df.label), random_dummy_test_preds)\n",
    "auc(fpr_2, tpr_2)"
   ]
  },
  {
   "cell_type": "markdown",
   "metadata": {},
   "source": [
    "# Standard sklearn classifier(s)"
   ]
  },
  {
   "cell_type": "code",
   "execution_count": 16,
   "metadata": {},
   "outputs": [
    {
     "name": "stderr",
     "output_type": "stream",
     "text": [
      "d:\\Miniconda\\envs\\hugging\\lib\\site-packages\\sklearn\\linear_model\\_logistic.py:458: ConvergenceWarning: lbfgs failed to converge (status=1):\n",
      "STOP: TOTAL NO. of ITERATIONS REACHED LIMIT.\n",
      "\n",
      "Increase the number of iterations (max_iter) or scale the data as shown in:\n",
      "    https://scikit-learn.org/stable/modules/preprocessing.html\n",
      "Please also refer to the documentation for alternative solver options:\n",
      "    https://scikit-learn.org/stable/modules/linear_model.html#logistic-regression\n",
      "  n_iter_i = _check_optimize_result(\n"
     ]
    },
    {
     "data": {
      "text/plain": [
       "(0.9077967586508979, 0.8566999655528763, 0.8815085244390883, None)"
      ]
     },
     "execution_count": 16,
     "metadata": {},
     "output_type": "execute_result"
    }
   ],
   "source": [
    "# Convert text to features using a simple tf-idf\n",
    "# min_df = is the minimum occurrences for a word to a feature\n",
    "vectorizer = TfidfVectorizer(min_df=10)\n",
    "X_train = vectorizer.fit_transform(train_df.text.values.astype('U'))\n",
    "\n",
    "# Train a Logisitic Regression classifier\n",
    "clf = LogisticRegression()\n",
    "clf.fit(X_train, train_df.label)\n",
    "\n",
    "# Test the classifier by converting test data to features\n",
    "X_test = vectorizer.transform(dev_df.text.values.astype('U'))\n",
    "y_pred = clf.predict(X_test)\n",
    "y_true = dev_df.label\n",
    "\n",
    "# We'll using binary F1 to test whether we can detect sarcastic comments\n",
    "precision_recall_fscore_support(y_true, y_pred, average='binary')\n"
   ]
  },
  {
   "cell_type": "code",
   "execution_count": 17,
   "metadata": {},
   "outputs": [
    {
     "data": {
      "text/html": [
       "<div>\n",
       "<style scoped>\n",
       "    .dataframe tbody tr th:only-of-type {\n",
       "        vertical-align: middle;\n",
       "    }\n",
       "\n",
       "    .dataframe tbody tr th {\n",
       "        vertical-align: top;\n",
       "    }\n",
       "\n",
       "    .dataframe thead th {\n",
       "        text-align: right;\n",
       "    }\n",
       "</style>\n",
       "<table border=\"1\" class=\"dataframe\">\n",
       "  <thead>\n",
       "    <tr style=\"text-align: right;\">\n",
       "      <th></th>\n",
       "      <th>text</th>\n",
       "      <th>label</th>\n",
       "      <th>predict</th>\n",
       "    </tr>\n",
       "  </thead>\n",
       "  <tbody>\n",
       "    <tr>\n",
       "      <th>154826</th>\n",
       "      <td>so you have a cup on one end of a string . and on the other end of the string is your friend with a cup(You two are the computers , the cups are the modems ) . you want to send a message to your friend(this is like when you go to click the start game button in one of your disney junior games ) .</td>\n",
       "      <td>0</td>\n",
       "      <td>1</td>\n",
       "    </tr>\n",
       "    <tr>\n",
       "      <th>58296</th>\n",
       "      <td>\\nSure! The two trees that are joined by a branch are called \"co-dominant\" trees. This means that both trees are growing together and supporting each other.</td>\n",
       "      <td>1</td>\n",
       "      <td>0</td>\n",
       "    </tr>\n",
       "    <tr>\n",
       "      <th>181679</th>\n",
       "      <td>The Big Ten Conference is a collegiate athletic conference that includes 14 member institutions in the United States. The conference is divided into two divisions, the East Division and the West Division. The 14 member institutions of the Big Ten Conference are:\\n\\nEast Division:\\n\\nUniversity of Illinois at Urbana–Champaign\\nIndiana University\\nUniversity of Maryland\\nMichigan State University\\nOhio State University\\nPenn State University\\nRutgers University\\nWest Division:\\n\\nUniversity of Iowa\\nUniversity of Minnesota\\nUniversity of Nebraska\\nNorthwestern University\\nPurdue University\\nUniversity of Wisconsin\\nUniversity of Michigan\\nSo, there are 14 schools in the Big Ten Conference.</td>\n",
       "      <td>1</td>\n",
       "      <td>0</td>\n",
       "    </tr>\n",
       "    <tr>\n",
       "      <th>127620</th>\n",
       "      <td>Moving a file is as simple as changing the catalog reference . If you are referring to a move that requires creating a new copy of the file and a copy that copies to a different location then this is faster because there are bottlenecks associated with different modes of transfer , such as USB bandwidth limits and controller latency ( or internet bandwidth limits ) .</td>\n",
       "      <td>0</td>\n",
       "      <td>1</td>\n",
       "    </tr>\n",
       "    <tr>\n",
       "      <th>149032</th>\n",
       "      <td>Now, let's say you add some salt to the water. According to Le Chatelier's principle, the salt will make it harder for the water molecules to escape into the air as steam. This is because the salt takes up space in the water, and there's less room for the water molecules to move around.</td>\n",
       "      <td>1</td>\n",
       "      <td>0</td>\n",
       "    </tr>\n",
       "    <tr>\n",
       "      <th>...</th>\n",
       "      <td>...</td>\n",
       "      <td>...</td>\n",
       "      <td>...</td>\n",
       "    </tr>\n",
       "    <tr>\n",
       "      <th>208016</th>\n",
       "      <td>However, it's not accurate to say that the price of Apple's stock has consistently gained significantly overnight over the past 10 years.</td>\n",
       "      <td>1</td>\n",
       "      <td>0</td>\n",
       "    </tr>\n",
       "    <tr>\n",
       "      <th>131075</th>\n",
       "      <td>Viruses do not have the ability to reproduce on their own, but they can replicate inside the cells of other living organisms. Because viruses do not have all of these characteristics, they are not considered living organisms. Instead, they are classified as non-living particles that are capable of infecting and replicating inside the cells of other living organisms.</td>\n",
       "      <td>1</td>\n",
       "      <td>0</td>\n",
       "    </tr>\n",
       "    <tr>\n",
       "      <th>106895</th>\n",
       "      <td>These are intersections with cameras pointing each direction . The cameras sense cars coming and send a signal to the lights to change . It allows the lights to best serve the traffic in a dynamic way , ie adjust to unpredictable patterns in the traffic .</td>\n",
       "      <td>0</td>\n",
       "      <td>1</td>\n",
       "    </tr>\n",
       "    <tr>\n",
       "      <th>151349</th>\n",
       "      <td>Here's how it works:\\r\\n\\r\\nImagine that you have three pipes, each with water flowing through it. If you turn on a tap at one end of one of the pipes, the water will start flowing through that pipe. But if you turn on two taps at the same time, the water will flow faster and stronger.</td>\n",
       "      <td>1</td>\n",
       "      <td>0</td>\n",
       "    </tr>\n",
       "    <tr>\n",
       "      <th>189255</th>\n",
       "      <td>He was also a Fellow of the Institute of Electrical and Electronics Engineers (IEEE) and the Association for Computing Machinery (ACM).</td>\n",
       "      <td>1</td>\n",
       "      <td>0</td>\n",
       "    </tr>\n",
       "  </tbody>\n",
       "</table>\n",
       "<p>3343 rows × 3 columns</p>\n",
       "</div>"
      ],
      "text/plain": [
       "                                                                                                                                                                                                                                                                                                                                                                                                                                                                                                                                                                                                                                                                                                                            text  \\\n",
       "154826                                                                                                                                                                                                                                                                                                                                                                                                                  so you have a cup on one end of a string . and on the other end of the string is your friend with a cup(You two are the computers , the cups are the modems ) . you want to send a message to your friend(this is like when you go to click the start game button in one of your disney junior games ) .   \n",
       "58296                                                                                                                                                                                                                                                                                                                                                                                                                                                                                                                                                               \\nSure! The two trees that are joined by a branch are called \"co-dominant\" trees. This means that both trees are growing together and supporting each other.   \n",
       "181679  The Big Ten Conference is a collegiate athletic conference that includes 14 member institutions in the United States. The conference is divided into two divisions, the East Division and the West Division. The 14 member institutions of the Big Ten Conference are:\\n\\nEast Division:\\n\\nUniversity of Illinois at Urbana–Champaign\\nIndiana University\\nUniversity of Maryland\\nMichigan State University\\nOhio State University\\nPenn State University\\nRutgers University\\nWest Division:\\n\\nUniversity of Iowa\\nUniversity of Minnesota\\nUniversity of Nebraska\\nNorthwestern University\\nPurdue University\\nUniversity of Wisconsin\\nUniversity of Michigan\\nSo, there are 14 schools in the Big Ten Conference.   \n",
       "127620                                                                                                                                                                                                                                                                                                                                         Moving a file is as simple as changing the catalog reference . If you are referring to a move that requires creating a new copy of the file and a copy that copies to a different location then this is faster because there are bottlenecks associated with different modes of transfer , such as USB bandwidth limits and controller latency ( or internet bandwidth limits ) .   \n",
       "149032                                                                                                                                                                                                                                                                                                                                                                                                                           Now, let's say you add some salt to the water. According to Le Chatelier's principle, the salt will make it harder for the water molecules to escape into the air as steam. This is because the salt takes up space in the water, and there's less room for the water molecules to move around.   \n",
       "...                                                                                                                                                                                                                                                                                                                                                                                                                                                                                                                                                                                                                                                                                                                          ...   \n",
       "208016                                                                                                                                                                                                                                                                                                                                                                                                                                                                                                                                                                                 However, it's not accurate to say that the price of Apple's stock has consistently gained significantly overnight over the past 10 years.   \n",
       "131075                                                                                                                                                                                                                                                                                                                                          Viruses do not have the ability to reproduce on their own, but they can replicate inside the cells of other living organisms. Because viruses do not have all of these characteristics, they are not considered living organisms. Instead, they are classified as non-living particles that are capable of infecting and replicating inside the cells of other living organisms.   \n",
       "106895                                                                                                                                                                                                                                                                                                                                                                                                                                                           These are intersections with cameras pointing each direction . The cameras sense cars coming and send a signal to the lights to change . It allows the lights to best serve the traffic in a dynamic way , ie adjust to unpredictable patterns in the traffic .   \n",
       "151349                                                                                                                                                                                                                                                                                                                                                                                                                            Here's how it works:\\r\\n\\r\\nImagine that you have three pipes, each with water flowing through it. If you turn on a tap at one end of one of the pipes, the water will start flowing through that pipe. But if you turn on two taps at the same time, the water will flow faster and stronger.   \n",
       "189255                                                                                                                                                                                                                                                                                                                                                                                                                                                                                                                                                                                   He was also a Fellow of the Institute of Electrical and Electronics Engineers (IEEE) and the Association for Computing Machinery (ACM).   \n",
       "\n",
       "        label  predict  \n",
       "154826      0        1  \n",
       "58296       1        0  \n",
       "181679      1        0  \n",
       "127620      0        1  \n",
       "149032      1        0  \n",
       "...       ...      ...  \n",
       "208016      1        0  \n",
       "131075      1        0  \n",
       "106895      0        1  \n",
       "151349      1        0  \n",
       "189255      1        0  \n",
       "\n",
       "[3343 rows x 3 columns]"
      ]
     },
     "execution_count": 17,
     "metadata": {},
     "output_type": "execute_result"
    }
   ],
   "source": [
    "pred_df = pd.DataFrame({'text': dev_df.text, 'label': dev_df.label, 'predict': y_pred})\n",
    "pd.set_option('display.max_colwidth', None)\n",
    "not_match_df = pred_df[pred_df.label != pred_df.predict]\n",
    "not_match_df"
   ]
  },
  {
   "cell_type": "code",
   "execution_count": 18,
   "metadata": {
    "scrolled": true
   },
   "outputs": [
    {
     "data": {
      "text/plain": [
       "0.9068769643127024"
      ]
     },
     "execution_count": 18,
     "metadata": {},
     "output_type": "execute_result"
    }
   ],
   "source": [
    "fpr_3, tpr_3, threshold = roc_curve(np.array(y_true), y_pred)\n",
    "auc(fpr_3, tpr_3)"
   ]
  },
  {
   "cell_type": "markdown",
   "metadata": {},
   "source": [
    "# Fancy Huggingface classifiers\n",
    "\n",
    "We'll use [MiniLM](https://huggingface.co/microsoft/MiniLM-L12-H384-uncased) which is a compressed version of a BERT-like model that is faster to train"
   ]
  },
  {
   "cell_type": "code",
   "execution_count": 19,
   "metadata": {},
   "outputs": [
    {
     "data": {
      "text/plain": [
       "True"
      ]
     },
     "execution_count": 19,
     "metadata": {},
     "output_type": "execute_result"
    }
   ],
   "source": [
    "torch.cuda.is_available()"
   ]
  },
  {
   "cell_type": "code",
   "execution_count": 20,
   "metadata": {},
   "outputs": [
    {
     "data": {
      "text/plain": [
       "1"
      ]
     },
     "execution_count": 20,
     "metadata": {},
     "output_type": "execute_result"
    }
   ],
   "source": [
    "# Verify there's at least one GPU sitting around (or not if you want to try CPU!)\n",
    "torch.cuda.device_count()"
   ]
  },
  {
   "cell_type": "code",
   "execution_count": 21,
   "metadata": {},
   "outputs": [
    {
     "data": {
      "text/plain": [
       "DatasetDict({\n",
       "    train: Dataset({\n",
       "        features: ['text', 'label', 'length'],\n",
       "        num_rows: 175692\n",
       "    })\n",
       "    dev: Dataset({\n",
       "        features: ['text', 'label', 'length'],\n",
       "        num_rows: 43924\n",
       "    })\n",
       "})"
      ]
     },
     "execution_count": 21,
     "metadata": {},
     "output_type": "execute_result"
    }
   ],
   "source": [
    "all_dataset"
   ]
  },
  {
   "cell_type": "markdown",
   "metadata": {},
   "source": [
    "### Prepare the text\n",
    "\n",
    "We need to tokenize the data. Each large language model (LLM) has its own tokenizer, so we will have to specify how the model expects the text to be turned into tokens. In huggingface, we'll specify a LLM using a string name, e.g., \"microsoft/MiniLM-L12-H384-uncased\" for MiniLM. You can see more details on different possible model on Huggingface's [model repo](https://huggingface.co/models)"
   ]
  },
  {
   "cell_type": "code",
   "execution_count": 22,
   "metadata": {},
   "outputs": [
    {
     "name": "stderr",
     "output_type": "stream",
     "text": [
      "                                                                      \r"
     ]
    }
   ],
   "source": [
    "tokenizer = AutoTokenizer.from_pretrained(\"microsoft/MiniLM-L12-H384-uncased\")\n",
    "def preprocess_function(examples):\n",
    "    return tokenizer(examples[\"text\"], truncation=True, max_length=512)\n",
    "\n",
    "tokenized_all = all_dataset.map(preprocess_function, batched=True)\n",
    "data_collator = DataCollatorWithPadding(tokenizer=tokenizer)"
   ]
  },
  {
   "cell_type": "markdown",
   "metadata": {},
   "source": [
    "### Train the model"
   ]
  },
  {
   "cell_type": "code",
   "execution_count": null,
   "metadata": {},
   "outputs": [],
   "source": [
    "# Huggingface will generate model checkpoints and these can\n",
    "# take up a lot of space, so be sure to set this directory somewhere where\n",
    "# you can check\n",
    "\n",
    "output_dir = '.'\n",
    "\n",
    "# This code block is used so we can have a deterministic training procedure\n",
    "# (i.e., get the same result each time)\n",
    "model_name = \"microsoft/MiniLM-L12-H384-uncased\"\n",
    "\n",
    "\n",
    "def model_init():\n",
    "    return AutoModelForSequenceClassification.from_pretrained(model_name, num_labels=2)\n",
    "\n",
    "\n",
    "training_args = TrainingArguments(\n",
    "    output_dir=output_dir,\n",
    "    overwrite_output_dir=True,\n",
    "    learning_rate=8e-5,\n",
    "    per_device_train_batch_size=8,\n",
    "    per_device_eval_batch_size=8,\n",
    "    num_train_epochs=1,\n",
    "    weight_decay=0.01,\n",
    "    do_eval=True,\n",
    "    seed=1234,\n",
    "    save_strategy='epoch',\n",
    "    evaluation_strategy='epoch',\n",
    "    logging_dir=output_dir + 'logs/',\n",
    "    label_smoothing_factor=0.1,\n",
    "    load_best_model_at_end=True,\n",
    ")\n",
    "\n",
    "trainer = Trainer(\n",
    "    model_init=model_init,\n",
    "    args=training_args,\n",
    "    train_dataset=tokenized_all[\"train\"],\n",
    "    eval_dataset=tokenized_all[\"dev\"],\n",
    "    tokenizer=tokenizer,\n",
    "    data_collator=data_collator,\n",
    ")\n",
    "\n",
    "trainer.train()\n"
   ]
  },
  {
   "cell_type": "code",
   "execution_count": 26,
   "metadata": {},
   "outputs": [
    {
     "data": {
      "text/html": [],
      "text/plain": [
       "<IPython.core.display.HTML object>"
      ]
     },
     "metadata": {},
     "output_type": "display_data"
    },
    {
     "data": {
      "text/plain": [
       "{'eval_loss': 0.21020738780498505,\n",
       " 'eval_runtime': 48.0067,\n",
       " 'eval_samples_per_second': 355.93,\n",
       " 'eval_steps_per_second': 44.494,\n",
       " 'epoch': 1.0}"
      ]
     },
     "execution_count": 26,
     "metadata": {},
     "output_type": "execute_result"
    }
   ],
   "source": [
    "trainer.evaluate()"
   ]
  },
  {
   "cell_type": "code",
   "execution_count": 27,
   "metadata": {},
   "outputs": [
    {
     "name": "stdout",
     "output_type": "stream",
     "text": [
      "(17087, 2) (17087,)\n"
     ]
    },
    {
     "data": {
      "text/plain": [
       "(0.9847696879643388, 0.9994344957587182, 0.9920478997099823, None)"
      ]
     },
     "execution_count": 27,
     "metadata": {},
     "output_type": "execute_result"
    }
   ],
   "source": [
    "dev_logits = trainer.predict(tokenized_all[\"dev\"])\n",
    "print(dev_logits.predictions.shape, dev_logits.label_ids.shape)\n",
    "dev_preds = np.argmax(dev_logits.predictions, axis=-1)\n",
    "precision_recall_fscore_support(dev_df.label, dev_preds, average='binary')"
   ]
  },
  {
   "cell_type": "code",
   "execution_count": 28,
   "metadata": {},
   "outputs": [
    {
     "data": {
      "application/vnd.jupyter.widget-view+json": {
       "model_id": "",
       "version_major": 2,
       "version_minor": 0
      },
      "text/plain": [
       "Map:   0%|          | 0/17087 [00:00<?, ? examples/s]"
      ]
     },
     "metadata": {},
     "output_type": "display_data"
    },
    {
     "data": {
      "text/html": [],
      "text/plain": [
       "<IPython.core.display.HTML object>"
      ]
     },
     "metadata": {},
     "output_type": "display_data"
    },
    {
     "name": "stdout",
     "output_type": "stream",
     "text": [
      "(17087, 2) (17087,)\n"
     ]
    },
    {
     "data": {
      "text/plain": [
       "0.5295804107641314"
      ]
     },
     "execution_count": 28,
     "metadata": {},
     "output_type": "execute_result"
    }
   ],
   "source": [
    "tokenized_aug = aug_dataset.map(preprocess_function, batched=True)\n",
    "\n",
    "aug_dev_logits = trainer.predict(tokenized_aug[\"train\"])\n",
    "print(aug_dev_logits.predictions.shape, aug_dev_logits.label_ids.shape)\n",
    "aug_dev_preds = np.argmax(aug_dev_logits.predictions, axis=-1)\n",
    "fpr_aug, tpr_aug, threshold = roc_curve(np.array(aug_dev_df.label), aug_dev_preds)\n",
    "auc(fpr_aug, tpr_aug)"
   ]
  },
  {
   "cell_type": "code",
   "execution_count": 29,
   "metadata": {},
   "outputs": [
    {
     "data": {
      "text/plain": [
       "0.9962373633096766"
      ]
     },
     "execution_count": 29,
     "metadata": {},
     "output_type": "execute_result"
    }
   ],
   "source": [
    "fpr, tpr, threshold = roc_curve(np.array(dev_df.label), dev_preds)\n",
    "auc(fpr, tpr)"
   ]
  },
  {
   "cell_type": "code",
   "execution_count": 31,
   "metadata": {},
   "outputs": [],
   "source": [
    "import matplotlib.pyplot as plt\n",
    "import seaborn as sns"
   ]
  },
  {
   "cell_type": "code",
   "execution_count": 32,
   "metadata": {},
   "outputs": [
    {
     "data": {
      "image/png": "[encoded data removed]",
      "text/plain": [
       "<Figure size 576x396 with 1 Axes>"
      ]
     },
     "metadata": {},
     "output_type": "display_data"
    }
   ],
   "source": [
    "plt.style.use(\"seaborn\")\n",
    "plt.plot(fpr, tpr)\n",
    "plt.plot(fpr_aug, tpr_aug)\n",
    "plt.plot(fpr_3, tpr_3)\n",
    "plt.plot(fpr_2, tpr_2)\n",
    "plt.legend(['MiniLM', 'MiniLM-aug', 'TF-IDF LR', 'DummyClassifier'])\n",
    "plt.title(\"Model Performance on HC3\")\n",
    "plt.xlabel(\"FPR\")\n",
    "plt.ylabel(\"TPR\")\n",
    "# plt.xscale('log')\n",
    "# plt.yscale('log')\n",
    "plt.savefig(\"res\")"
   ]
  },
  {
   "cell_type": "code",
   "execution_count": null,
   "metadata": {},
   "outputs": [],
   "source": []
  }
 ],
 "metadata": {
  "kernelspec": {
   "display_name": "Python 3 (ipykernel)",
   "language": "python",
   "name": "python3"
  },
  "language_info": {
   "codemirror_mode": {
    "name": "ipython",
    "version": 3
   },
   "file_extension": ".py",
   "mimetype": "text/x-python",
   "name": "python",
   "nbconvert_exporter": "python",
   "pygments_lexer": "ipython3",
   "version": "3.8.16"
  }
 },
 "nbformat": 4,
 "nbformat_minor": 4
}
